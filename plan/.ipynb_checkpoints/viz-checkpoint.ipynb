{
 "cells": [
  {
   "cell_type": "code",
   "execution_count": 1,
   "metadata": {
    "collapsed": false
   },
   "outputs": [
    {
     "name": "stdout",
     "output_type": "stream",
     "text": [
      "Using matplotlib backend: Qt5Agg\n",
      "Populating the interactive namespace from numpy and matplotlib\n"
     ]
    }
   ],
   "source": [
    "%load_ext autoreload\n",
    "%autoreload 2\n",
    "\n",
    "%matplotlib qt5\n",
    "%pylab --no-import-all"
   ]
  },
  {
   "cell_type": "code",
   "execution_count": 292,
   "metadata": {
    "collapsed": false
   },
   "outputs": [
    {
     "data": {
      "application/javascript": [
       "IPython.OutputArea.auto_scroll_threshold = 99999;"
      ],
      "text/plain": [
       "<IPython.core.display.Javascript object>"
      ]
     },
     "metadata": {},
     "output_type": "display_data"
    }
   ],
   "source": [
    "%%javascript\n",
    "IPython.OutputArea.auto_scroll_threshold = 99999;"
   ]
  },
  {
   "cell_type": "code",
   "execution_count": 58,
   "metadata": {
    "collapsed": true
   },
   "outputs": [],
   "source": [
    "%qtconsole"
   ]
  },
  {
   "cell_type": "code",
   "execution_count": 129,
   "metadata": {
    "collapsed": true
   },
   "outputs": [],
   "source": [
    "import venv"
   ]
  },
  {
   "cell_type": "code",
   "execution_count": 130,
   "metadata": {
    "collapsed": true
   },
   "outputs": [],
   "source": [
    "venv??"
   ]
  },
  {
   "cell_type": "code",
   "execution_count": 127,
   "metadata": {
    "collapsed": false
   },
   "outputs": [],
   "source": [
    "from obstools.plan.viz import VisPlot\n",
    "from obstools.jparser import Jparser"
   ]
  },
  {
   "cell_type": "code",
   "execution_count": 71,
   "metadata": {
    "collapsed": false
   },
   "outputs": [
    {
     "data": {
      "text/plain": [
       "(('19', '44', '28'), ('-42', '02', '09'))"
      ]
     },
     "execution_count": 71,
     "metadata": {},
     "output_type": "execute_result"
    }
   ],
   "source": [
    "j = Jparser('CRTS SSS100805 J194428-420209')\n",
    "j.data"
   ]
  },
  {
   "cell_type": "code",
   "execution_count": 44,
   "metadata": {
    "collapsed": false
   },
   "outputs": [
    {
     "data": {
      "text/plain": [
       "(('19', '44', '28'), ('-42', '02', '09'))"
      ]
     },
     "execution_count": 44,
     "metadata": {},
     "output_type": "execute_result"
    }
   ],
   "source": [
    "import re\n",
    "pattern = '([+-]*\\d{1,2})(\\d{2})(\\d{2}\\.?\\d{0,3})'\n",
    "parser = re.compile(pattern * 2)\n",
    "\n",
    "match = re.search(pattern*2, 'CRTS SSS100805 J194428-420209')\n",
    "match.group(1,2,3), match.group(4,5,6)"
   ]
  },
  {
   "cell_type": "code",
   "execution_count": 53,
   "metadata": {
    "collapsed": false
   },
   "outputs": [],
   "source": [
    "from recipes.iter import grouper\n",
    "from functools import partial"
   ]
  },
  {
   "cell_type": "code",
   "execution_count": 56,
   "metadata": {
    "collapsed": false
   },
   "outputs": [
    {
     "data": {
      "text/plain": [
       "[[('10', '08', '05'), ('19', '44', '28')],\n",
       " [('17', '43', '20.1'), ('-04', '29', '53')],\n",
       " [('09', '59', '58.98'), ('-19', '01', '00.6')]]"
      ]
     },
     "execution_count": 56,
     "metadata": {},
     "output_type": "execute_result"
    }
   ],
   "source": [
    "names = ['CRTS SSS100805 J194428-420209', \n",
    "             '1RXS J174320.1-042953', \n",
    "             'MASTER J095958.98-190100.6']\n",
    "list(Jparser.many2gen(names))\n",
    "\n",
    "\n",
    "    "
   ]
  },
  {
   "cell_type": "code",
   "execution_count": 128,
   "metadata": {
    "collapsed": false
   },
   "outputs": [],
   "source": [
    "mcvs = ['AR Sco',\n",
    "#         'V895 Cen',\n",
    "#         'V895 Cen',\n",
    "#         'IGR J14536-5522',\n",
    "#         '1RXS J174320.1-042953',\n",
    "#         'RX J1610.1+0352',\n",
    "#         'RX J1745.5-2905',\n",
    "#         'SDSS J151415.65+074446.4',\n",
    "#         '2XMM J154305.5-522709',\n",
    "#         '2MASS J19283247-5001344',\n",
    "#         'QS Tel',\n",
    "#         'V1432 Aql',\n",
    "         'CRTS SSS100805 J194428-420209',\n",
    "#         'IGR J19552+0044',\n",
    "#         'HU Aqr',\n",
    "#         'CD Ind',\n",
    "#         'CE Gru',\n",
    "#         'BL Hyi',\n",
    "#         'RX J0154.0-5947',\n",
    "#         'FL Cet', \n",
    "        'FO Aqr' ] \n",
    "viz = VisPlot(targets=mcvs)  #TODO: cache coordinate positions to file??\n",
    "\n",
    "\n",
    "viz.plot_vis(cmap='jet', sort=False)\n",
    "\n",
    "#Setup legend picking\n",
    "viz.connect()"
   ]
  },
  {
   "cell_type": "code",
   "execution_count": 118,
   "metadata": {
    "collapsed": false
   },
   "outputs": [
    {
     "data": {
      "text/plain": [
       "<SkyCoord (GCRS: obstime=2016-07-18 09:55:05.164722, obsgeoloc=[ 0.  0.  0.] m, obsgeovel=[ 0.  0.  0.] m / s): (ra, dec, distance) in (deg, deg, AU)\n",
       "    (277.7670851, -18.55579805, 0.00261394)>"
      ]
     },
     "execution_count": 118,
     "metadata": {},
     "output_type": "execute_result"
    }
   ],
   "source": [
    "#TODO: pickle SkyCoords???\n",
    "get_moon(Time.now()).transform_to()"
   ]
  },
  {
   "cell_type": "code",
   "execution_count": 18,
   "metadata": {
    "collapsed": false
   },
   "outputs": [],
   "source": [
    "from astropy.coordinates import (SkyCoord, EarthLocation, AltAz,\n",
    "                                 get_sun, get_moon)\n",
    "from astropy.time import Time\n",
    "from astropy import units as u"
   ]
  },
  {
   "cell_type": "code",
   "execution_count": 12,
   "metadata": {
    "collapsed": false
   },
   "outputs": [
    {
     "name": "stdout",
     "output_type": "stream",
     "text": [
      "CPU times: user 0 ns, sys: 0 ns, total: 0 ns\n",
      "Wall time: 44.1 µs\n"
     ]
    }
   ],
   "source": [
    "%time\n",
    "moon = get_moon(viz.t)"
   ]
  },
  {
   "cell_type": "code",
   "execution_count": 21,
   "metadata": {
    "collapsed": false
   },
   "outputs": [
    {
     "data": {
      "text/plain": [
       "0.6758063849615927"
      ]
     },
     "execution_count": 21,
     "metadata": {},
     "output_type": "execute_result"
    }
   ],
   "source": [
    "#def get_moon_phase():\n",
    "\n",
    "mnight = Time('2016-07-14') - 2 * u.h\n",
    "siteloc = EarthLocation.of_site('Sutherland')\n",
    "#mnight = viz.midnight\n",
    "altaz = AltAz(location=siteloc, obstime=mnight)\n",
    "\n",
    "moon = get_moon(mnight)\n",
    "moon = moon.transform_to(altaz)\n",
    "sun = get_sun(mnight)\n",
    "sun = sun.transform_to(altaz)\n",
    "\n",
    "#\n",
    "elongation = sun.separation(moon)\n",
    "#phase angle at midnight \n",
    "phase = np.arctan2(sun.distance*np.sin(elongation),\n",
    "                    moon.distance - sun.distance*np.cos(elongation))\n",
    "\n",
    "ill = (1 + np.cos(phase))/2.0\n",
    "ill.value"
   ]
  },
  {
   "cell_type": "code",
   "execution_count": 22,
   "metadata": {
    "collapsed": false
   },
   "outputs": [
    {
     "data": {
      "text/latex": [
       "$0.67580638 \\; \\mathrm{}$"
      ],
      "text/plain": [
       "<Quantity 0.6758063849615927>"
      ]
     },
     "execution_count": 22,
     "metadata": {},
     "output_type": "execute_result"
    }
   ],
   "source": [
    "ill"
   ]
  },
  {
   "cell_type": "code",
   "execution_count": 102,
   "metadata": {
    "collapsed": false
   },
   "outputs": [
    {
     "data": {
      "text/plain": [
       "array([[-0.99697112,  0.90000528],\n",
       "       [ 1.78182923, -0.21852   ]])"
      ]
     },
     "execution_count": 102,
     "metadata": {},
     "output_type": "execute_result"
    }
   ],
   "source": [
    "malt[np.c_[wsc-1, wsc+1]]#, malt[wsc+2]"
   ]
  },
  {
   "cell_type": "code",
   "execution_count": 91,
   "metadata": {
    "collapsed": false
   },
   "outputs": [
    {
     "data": {
      "text/plain": [
       "<matplotlib.collections.LineCollection at 0x7f604fa57dd8>"
      ]
     },
     "execution_count": 91,
     "metadata": {},
     "output_type": "execute_result"
    }
   ],
   "source": [
    "fig, ax = plt.subplots()\n",
    "ax.plot(h, malt)\n",
    "ax.vlines(h[wsc], 0, 90)"
   ]
  },
  {
   "cell_type": "code",
   "execution_count": 90,
   "metadata": {
    "collapsed": false
   },
   "outputs": [
    {
     "data": {
      "text/plain": [
       "<matplotlib.collections.LineCollection at 0x7f604fb1d0f0>"
      ]
     },
     "execution_count": 90,
     "metadata": {},
     "output_type": "execute_result"
    }
   ],
   "source": []
  },
  {
   "cell_type": "code",
   "execution_count": 257,
   "metadata": {
    "collapsed": false
   },
   "outputs": [],
   "source": [
    "viz.add_target('AR Sco')  #FIXME: screws up order"
   ]
  },
  {
   "cell_type": "code",
   "execution_count": 12,
   "metadata": {
    "collapsed": false
   },
   "outputs": [],
   "source": [
    "dn = ['ST Cha', #           10 47 15.6  -79 28 07\t\t\n",
    "#         'BV Cen', # \t13 31 19.6  -54 58 34\n",
    "#         'TYC 6181-766-1', #\t15 09 46.6  -21 47 46\n",
    "#         'HL CMa', #\t06 45 17.2  -16 51 35\n",
    "#         'v1159 Ori', #\t05 28 59.5  -03 33 53\n",
    "#         '2MASS J07465548-0934305',# \t07 46 55.5  -09 34 31\n",
    "#         'VW Hyi', #\t04 09 11.3  -71 17 41\n",
    "#         'WX Hyi', #\t02 09 50.7  -63 18 40 \t\n",
    "#         'MU Cen', #\t12 12 53.9  -44 28 16\t\n",
    "#         'WW Cet', # \t00 11 24.8  -11 28 43\t \n",
    "#         'V1040 Cen', # \t11 55 27.1  -56 41 53 \n",
    "#         'UY Pup',#\t07 46 31.2  -12 57 09\t\n",
    "#         'AD Men', #\t06 04 30.9  -71 25 23\n",
    "        'V426 Oph']\n",
    "      \n",
    "viz = VisPlot(targets=dn)  #TODO: cache coordinate positions to file??\n",
    "viz.plot_vis(cmap='jet', sort=False)\n",
    "\n",
    "#Setup legend picking\n",
    "viz.connect()\n",
    "#viz.ax.set_title('Dwarf Novae')"
   ]
  },
  {
   "cell_type": "code",
   "execution_count": 143,
   "metadata": {
    "collapsed": false
   },
   "outputs": [
    {
     "data": {
      "text/plain": [
       "[datetime.datetime(2016, 7, 11, 20, 0, tzinfo=<matplotlib.dates._UTC object at 0x7f0233d878d0>),\n",
       " datetime.datetime(2016, 7, 11, 22, 0, tzinfo=<matplotlib.dates._UTC object at 0x7f0233d878d0>),\n",
       " datetime.datetime(2016, 7, 12, 0, 0, tzinfo=<matplotlib.dates._UTC object at 0x7f0233d878d0>),\n",
       " datetime.datetime(2016, 7, 12, 2, 0, tzinfo=<matplotlib.dates._UTC object at 0x7f0233d878d0>),\n",
       " datetime.datetime(2016, 7, 12, 4, 0, tzinfo=<matplotlib.dates._UTC object at 0x7f0233d878d0>),\n",
       " datetime.datetime(2016, 7, 12, 6, 0, tzinfo=<matplotlib.dates._UTC object at 0x7f0233d878d0>),\n",
       " datetime.datetime(2016, 7, 12, 8, 0, tzinfo=<matplotlib.dates._UTC object at 0x7f0233d878d0>)]"
      ]
     },
     "execution_count": 143,
     "metadata": {},
     "output_type": "execute_result"
    }
   ],
   "source": [
    "num2date(viz.ax.parasite.xaxis.major.formatter.locs)"
   ]
  },
  {
   "cell_type": "code",
   "execution_count": 4,
   "metadata": {
    "collapsed": false
   },
   "outputs": [],
   "source": [
    "from astropy.time import Time\n",
    "from matplotlib.transforms import Affine2D\n",
    "from matplotlib.dates import num2date"
   ]
  },
  {
   "cell_type": "code",
   "execution_count": 36,
   "metadata": {
    "collapsed": true
   },
   "outputs": [],
   "source": [
    "def get_sid_trans(date, longitude):\n",
    "    '''Initialize matplotlib transform for local time - sidereal time conversion'''\n",
    "    midnight = Time(date) #- tz*u.h   #midnight UTC\n",
    "    sidmid = midnight.sidereal_time('mean', longitude)\n",
    "    #offset from local time\n",
    "    offset = sidmid.hour / 24 \n",
    "    #used to convert to origin of plot_date coordinates\n",
    "    p0 = midnight.plot_date\n",
    "    #A mean sidereal day is 23 hours, 56 minutes, 4.0916 seconds (23.9344699 hours or 0.99726958 mean solar days)\n",
    "    scale = 366.25 / 365.25\n",
    "    \n",
    "    return Affine2D().translate(-p0, 0).scale(scale).translate(p0 + offset, 0)"
   ]
  },
  {
   "cell_type": "code",
   "execution_count": 6,
   "metadata": {
    "collapsed": false
   },
   "outputs": [
    {
     "name": "stdout",
     "output_type": "stream",
     "text": [
      "18h48m08.2434s 2016-07-13 18:48:08.239312\n"
     ]
    }
   ],
   "source": [
    "now = Time(viz.midnight)\n",
    "q = now.sidereal_time('mean', viz.siteloc.longitude)\n",
    "\n",
    "sidtrans = get_sid_trans('2016-07-12', viz.siteloc.longitude, 0)\n",
    "\n",
    "qq = sidtrans.transform([now.plot_date, 0])[0]\n",
    "\n",
    "\n",
    "print(q, Time(num2date(qq)))"
   ]
  },
  {
   "cell_type": "code",
   "execution_count": 7,
   "metadata": {
    "collapsed": false
   },
   "outputs": [
    {
     "name": "stdout",
     "output_type": "stream",
     "text": [
      "['13h47m18.9612s' '15h47m38.6741s' '17h47m58.387s' '19h48m18.0999s'\n",
      " '21h48m37.8128s' '23h48m57.5257s' '1h49m17.2386s']\n",
      "['2016-07-13 13:47:18.958' '2016-07-13 15:47:38.671'\n",
      " '2016-07-13 17:47:58.383' '2016-07-13 19:48:18.096'\n",
      " '2016-07-13 21:48:37.808' '2016-07-13 23:48:57.521'\n",
      " '2016-07-14 01:49:17.233']\n"
     ]
    }
   ],
   "source": [
    "locs = viz.ax.xaxis.major.formatter.locs\n",
    "q = Time(num2date(locs)).sidereal_time('mean', viz.siteloc.longitude)\n",
    "\n",
    "st = sidtrans.transform(np.c_[locs, np.zeros_like(locs)])[:,0]\n",
    "qq = Time(st, format='plot_date').iso\n",
    "\n",
    "print(q)\n",
    "print(qq)"
   ]
  },
  {
   "cell_type": "code",
   "execution_count": 8,
   "metadata": {
    "collapsed": false
   },
   "outputs": [
    {
     "name": "stdout",
     "output_type": "stream",
     "text": [
      "[ 736156.83333333  736156.91666667  736157.          736157.08333333\n",
      "  736157.16666667  736157.25        736157.33333333]\n",
      "[ 736157.70833333  736157.79166667  736157.875       736157.95833333\n",
      "  736158.04166667  736158.125       736158.20833333]\n"
     ]
    },
    {
     "data": {
      "text/plain": [
       "array([ 736158.57452498,  736158.65808646,  736158.74164795,\n",
       "        736158.82520944,  736158.90877093,  736158.99233241,\n",
       "        736159.0758939 ])"
      ]
     },
     "execution_count": 8,
     "metadata": {},
     "output_type": "execute_result"
    }
   ],
   "source": [
    "print(viz.ax.parasite.xaxis.major.formatter.locs)\n",
    "print(viz.ax.xaxis.major.formatter.locs)\n",
    "st"
   ]
  },
  {
   "cell_type": "code",
   "execution_count": 9,
   "metadata": {
    "collapsed": false
   },
   "outputs": [
    {
     "data": {
      "text/plain": [
       "(0, 1)"
      ]
     },
     "execution_count": 9,
     "metadata": {},
     "output_type": "execute_result"
    }
   ],
   "source": [
    "viz.ax.parasite.set_xlim(0, 1)"
   ]
  },
  {
   "cell_type": "code",
   "execution_count": 59,
   "metadata": {
    "collapsed": false
   },
   "outputs": [
    {
     "data": {
      "text/plain": [
       "array([ 57,  58, 164, 206])"
      ]
     },
     "execution_count": 59,
     "metadata": {},
     "output_type": "execute_result"
    }
   ],
   "source": [
    "#add the annotations\n",
    "txts = []\n",
    "for i, (x, y, th) in enumerate(zip(self.tp[w], alt[w], angles)):\n",
    "    if \n",
    "    ha = ['right', 'left'][(i+1)%2]\n",
    "    #va = ['top', 'bottom'][(i+1)%2]\n",
    "    "
   ]
  },
  {
   "cell_type": "code",
   "execution_count": 18,
   "metadata": {
    "collapsed": false
   },
   "outputs": [
    {
     "data": {
      "text/plain": [
       "array([[  7.36158511e+05,  -1.00273785e+01],\n",
       "       [  7.36159115e+05,   9.02464066e+01]])"
      ]
     },
     "execution_count": 18,
     "metadata": {},
     "output_type": "execute_result"
    }
   ],
   "source": [
    "sidtrans.transform(viz.ax.viewLim.get_points())"
   ]
  },
  {
   "cell_type": "code",
   "execution_count": 22,
   "metadata": {
    "collapsed": false,
    "scrolled": true
   },
   "outputs": [
    {
     "data": {
      "text/plain": [
       "((736156.78119660541, 736157.3820375324), (0.0, 1.0))"
      ]
     },
     "execution_count": 22,
     "metadata": {},
     "output_type": "execute_result"
    }
   ],
   "source": [
    "viz.ax.parasite.get_xlim(), viz.ax.get_xlim()"
   ]
  },
  {
   "cell_type": "code",
   "execution_count": 21,
   "metadata": {
    "collapsed": false
   },
   "outputs": [
    {
     "data": {
      "text/plain": [
       "(0, 1)"
      ]
     },
     "execution_count": 21,
     "metadata": {},
     "output_type": "execute_result"
    }
   ],
   "source": [
    "viz.ax.set_xlim(0,1)"
   ]
  },
  {
   "cell_type": "code",
   "execution_count": 461,
   "metadata": {
    "collapsed": false
   },
   "outputs": [
    {
     "data": {
      "text/plain": [
       "0.0"
      ]
     },
     "execution_count": 461,
     "metadata": {},
     "output_type": "execute_result"
    }
   ],
   "source": [
    "leg = viz.ax.get_legend()\n",
    "bbox = leg.get_bbox_to_anchor()\n",
    "bbox.width"
   ]
  },
  {
   "cell_type": "code",
   "execution_count": 37,
   "metadata": {
    "collapsed": false
   },
   "outputs": [
    {
     "data": {
      "text/plain": [
       "<matplotlib.axes._subplots.AxesHostAxesSubplot at 0x7f6050f13f98>"
      ]
     },
     "execution_count": 37,
     "metadata": {},
     "output_type": "execute_result"
    }
   ],
   "source": [
    "from mpl_toolkits.axes_grid1.parasite_axes import SubplotHost\n",
    "from matplotlib.transforms import (Transform, IdentityTransform, Affine2D, \n",
    "                                   blended_transform_factory as btf)\n",
    "\n",
    "fig = plt.figure()\n",
    "ax = SubplotHost(fig, 111)\n",
    "\n",
    "lon = viz.siteloc.longitude\n",
    "sid_trans = get_sid_trans(viz.date, lon)\n",
    "aux_trans = btf(sid_trans, IdentityTransform())\n",
    "ax.parasite = ax.twin(aux_trans)\n",
    "\n",
    "axp = ax.twin(aux_trans)\n",
    "\n",
    "fig.add_subplot(ax)"
   ]
  },
  {
   "cell_type": "code",
   "execution_count": 31,
   "metadata": {
    "collapsed": false
   },
   "outputs": [
    {
     "data": {
      "text/plain": [
       "(0, 0.5)"
      ]
     },
     "execution_count": 31,
     "metadata": {},
     "output_type": "execute_result"
    }
   ],
   "source": [
    "ax.set_xlim(0,.5)#, axp.get_xlim()"
   ]
  },
  {
   "cell_type": "code",
   "execution_count": 442,
   "metadata": {
    "collapsed": false
   },
   "outputs": [],
   "source": [
    "txt = viz.ax.text(1, 1.01, 'Sid.T.',\n",
    "                    color='r', fontweight='bold', \n",
    "                    va = 'bottom', ha='right',\n",
    "                    transform=viz.ax.transAxes)"
   ]
  },
  {
   "cell_type": "code",
   "execution_count": 426,
   "metadata": {
    "collapsed": false
   },
   "outputs": [
    {
     "data": {
      "text/plain": [
       "array([ 736156.66666667,  736156.75      ,  736156.83333333,\n",
       "        736156.91666667,  736157.        ,  736157.08333333,\n",
       "        736157.16666667,  736157.24756009])"
      ]
     },
     "execution_count": 426,
     "metadata": {},
     "output_type": "execute_result"
    }
   ],
   "source": [
    "newlocs = np.r_[viz.ax.xaxis.get_ticklocs(), viz.ax.get_xlim()[1]]"
   ]
  },
  {
   "cell_type": "code",
   "execution_count": 199,
   "metadata": {
    "collapsed": false
   },
   "outputs": [],
   "source": [
    "for txt in flatten(Txt):\n",
    "    txt.set_rotation(0)"
   ]
  },
  {
   "cell_type": "code",
   "execution_count": 441,
   "metadata": {
    "collapsed": false
   },
   "outputs": [],
   "source": [
    "txt.remove();# txt2.remove()"
   ]
  },
  {
   "cell_type": "code",
   "execution_count": 317,
   "metadata": {
    "collapsed": false
   },
   "outputs": [],
   "source": [
    "for x, y in zip(viz.tp[l], q[l]):\n",
    "    viz.ax.text(x, y , '\\u2588'*5, color='b')"
   ]
  },
  {
   "cell_type": "code",
   "execution_count": 218,
   "metadata": {
    "collapsed": false
   },
   "outputs": [],
   "source": [
    "class InteractiveVis(VisPlot):\n",
    "    #TODO: time now, \n",
    "    #hover - hourangle, moon distance, instantaneous \n",
    "    #Hover legend - blink line??\n",
    "    def show_current_time(TF):\n",
    "        Time.now()"
   ]
  },
  {
   "cell_type": "code",
   "execution_count": 312,
   "metadata": {
    "collapsed": false
   },
   "outputs": [],
   "source": [
    "from matplotlib.transforms import Transform, IdentityTransform, Affine2D\n",
    "\n",
    "from matplotlib import ticker\n",
    "\n",
    "import warnings\n",
    "from recipes.string import minfloatformat\n",
    "\n",
    "from grafico.ticks import InfiniteAwareness, AutoMinorLocator, DegreeFormatter\n",
    "\n",
    "\n",
    "class SeczTransform(Transform): \n",
    "    input_dims = 1 \n",
    "    output_dims = 1 \n",
    "    is_separable = False \n",
    "    has_inverse = False\n",
    "\n",
    "    def transform_non_affine(self, alt): \n",
    "        return 1. / np.cos(np.radians(90. - alt))\n",
    "\n",
    "    \n",
    "class AirmassFormatter(TransFormatter):\n",
    "    _transform = SeczTransform()\n",
    "    \n",
    "    "
   ]
  },
  {
   "cell_type": "code",
   "execution_count": 333,
   "metadata": {
    "collapsed": false
   },
   "outputs": [],
   "source": [
    "from obstools.plan.viz import VizAxes"
   ]
  },
  {
   "cell_type": "code",
   "execution_count": 335,
   "metadata": {
    "collapsed": false
   },
   "outputs": [],
   "source": [
    "fig = plt.figure(figsize=(18,10))\n",
    "ax = VizDualAxes(fig, 111)\n",
    "\n",
    "ax.setup_ticks()\n",
    "fig.add_subplot(ax)\n",
    "\n",
    "\n",
    "x0 = Time(date).plot_date\n",
    "ax.set_xlim(x0-.25, x0+.25)\n",
    "ax.set_ylim(0, 90)\n",
    "ax.grid()\n"
   ]
  },
  {
   "cell_type": "code",
   "execution_count": 349,
   "metadata": {
    "collapsed": false
   },
   "outputs": [
    {
     "name": "stdout",
     "output_type": "stream",
     "text": [
      "[('b', 'c'), (2, 3)]\n",
      "[('a', 'd'), (1, 4)]\n"
     ]
    }
   ],
   "source": [
    "for tw in zip({'a':1, 'b':2}.items(), {'c':3, 'd':4}.items()):\n",
    "    print(list(zip(*tw)))"
   ]
  },
  {
   "cell_type": "code",
   "execution_count": 221,
   "metadata": {
    "collapsed": false
   },
   "outputs": [
    {
     "name": "stdout",
     "output_type": "stream",
     "text": [
      "['13:27:36.1874' '16:58:10.685' '20:28:45.1825' '23:59:19.6801'\n",
      " '3:29:54.1777']\n",
      "['2016-07-08 13:27:36.189' '2016-07-08 16:58:10.686'\n",
      " '2016-07-08 20:28:45.183' '2016-07-08 23:59:19.679'\n",
      " '2016-07-09 03:29:54.176']\n"
     ]
    }
   ],
   "source": [
    "date = datetime(2016,7,8)\n",
    "lon = viz.siteloc.longitude\n",
    "sidtrans = get_sid_trans(date, lon, 2)\n",
    "\n",
    "t = Time(date) + np.linspace(-7, 7, 5)*u.h\n",
    "print(t.sidereal_time('mean', lon).to_string(sep=':'))\n",
    "xy = np.c_[t.plot_date, np.zeros(5)]\n",
    "print(Time(num2date(sidtrans.transform(xy)[:,0])).iso)"
   ]
  },
  {
   "cell_type": "code",
   "execution_count": 197,
   "metadata": {
    "collapsed": false
   },
   "outputs": [
    {
     "data": {
      "text/plain": [
       "0.9972696245733789"
      ]
     },
     "execution_count": 197,
     "metadata": {},
     "output_type": "execute_result"
    }
   ],
   "source": []
  },
  {
   "cell_type": "code",
   "execution_count": 150,
   "metadata": {
    "collapsed": false
   },
   "outputs": [
    {
     "ename": "TypeError",
     "evalue": "an integer is required (got type datetime.date)",
     "output_type": "error",
     "traceback": [
      "\u001b[1;31m---------------------------------------------------------------------------\u001b[0m",
      "\u001b[1;31mTypeError\u001b[0m                                 Traceback (most recent call last)",
      "\u001b[1;32m<ipython-input-150-69505940d1d5>\u001b[0m in \u001b[0;36m<module>\u001b[1;34m()\u001b[0m\n\u001b[1;32m----> 1\u001b[1;33m \u001b[0mdatetime\u001b[0m\u001b[1;33m(\u001b[0m\u001b[0mdatetime\u001b[0m\u001b[1;33m.\u001b[0m\u001b[0mdate\u001b[0m\u001b[1;33m(\u001b[0m\u001b[0mdatetime\u001b[0m\u001b[1;33m.\u001b[0m\u001b[0mtoday\u001b[0m\u001b[1;33m(\u001b[0m\u001b[1;33m)\u001b[0m\u001b[1;33m)\u001b[0m\u001b[1;33m)\u001b[0m\u001b[1;33m\u001b[0m\u001b[0m\n\u001b[0m",
      "\u001b[1;31mTypeError\u001b[0m: an integer is required (got type datetime.date)"
     ]
    }
   ],
   "source": [
    "#Time(datetime.date(datetime.today()))  feature request"
   ]
  },
  {
   "cell_type": "code",
   "execution_count": 145,
   "metadata": {
    "collapsed": false
   },
   "outputs": [
    {
     "name": "stdout",
     "output_type": "stream",
     "text": [
      "02:06:25\n"
     ]
    },
    {
     "data": {
      "text/latex": [
       "$20^\\mathrm{h}28^\\mathrm{m}45.1825^\\mathrm{s}$"
      ],
      "text/plain": [
       "<Longitude 20.479217373155347 hourangle>"
      ]
     },
     "execution_count": 145,
     "metadata": {},
     "output_type": "execute_result"
    }
   ],
   "source": [
    "xt, yt = ax.parasite.transAux.transform([x0,45])\n",
    "print(ax._subtext_formatter(xt))\n",
    "Time(date).sidereal_time('mean', viz.siteloc.longitude)"
   ]
  },
  {
   "cell_type": "code",
   "execution_count": 120,
   "metadata": {
    "collapsed": true
   },
   "outputs": [],
   "source": [
    "from matplotlib.dates import AutoDateFormatter"
   ]
  },
  {
   "cell_type": "code",
   "execution_count": 133,
   "metadata": {
    "collapsed": false
   },
   "outputs": [],
   "source": [
    "fig, ax = plt.subplots()\n",
    "ax.format_coord??"
   ]
  },
  {
   "cell_type": "code",
   "execution_count": 54,
   "metadata": {
    "collapsed": false
   },
   "outputs": [
    {
     "data": {
      "text/plain": [
       "3.4605487687513232"
      ]
     },
     "execution_count": 54,
     "metadata": {},
     "output_type": "execute_result"
    }
   ],
   "source": [
    "#t = Time(num2date(ax.get_xlim()))\n",
    "sidmid = viz.midnight.sidereal_time('mean', viz.siteloc.longitude)\n",
    "date = datetime(2016, 7, 8)\n",
    "tsid = Time(date) + sidmid.hour * u.h\n",
    "(viz.midnight.plot_date - tsid.plot_date) * 24"
   ]
  },
  {
   "cell_type": "code",
   "execution_count": 57,
   "metadata": {
    "collapsed": false
   },
   "outputs": [
    {
     "data": {
      "text/plain": [
       "0.22752286537408084"
      ]
     },
     "execution_count": 57,
     "metadata": {},
     "output_type": "execute_result"
    }
   ],
   "source": []
  },
  {
   "cell_type": "code",
   "execution_count": 366,
   "metadata": {
    "collapsed": false
   },
   "outputs": [
    {
     "data": {
      "text/latex": [
       "[$12^\\mathrm{h}31^\\mathrm{m}22.8857^\\mathrm{s}$\n",
       " $14^\\mathrm{h}31^\\mathrm{m}42.5986^\\mathrm{s}$\n",
       " $16^\\mathrm{h}32^\\mathrm{m}02.3115^\\mathrm{s}$\n",
       " $18^\\mathrm{h}32^\\mathrm{m}22.0244^\\mathrm{s}$\n",
       " $20^\\mathrm{h}32^\\mathrm{m}41.7373^\\mathrm{s}$\n",
       " $22^\\mathrm{h}33^\\mathrm{m}01.4502^\\mathrm{s}$\n",
       " $0^\\mathrm{h}33^\\mathrm{m}21.1631^\\mathrm{s}$]"
      ],
      "text/plain": [
       "<Longitude [ 12.52302382, 14.52849962, 16.53397543, 18.53945123,\n",
       "             20.54492704, 22.55040284,  0.55587864] hourangle>"
      ]
     },
     "execution_count": 366,
     "metadata": {},
     "output_type": "execute_result"
    }
   ],
   "source": [
    "t = Time(num2date(viz.ax.xaxis.get_majorticklocs()))\n",
    "t.sidereal_time('mean', viz.siteloc.longitude)"
   ]
  },
  {
   "cell_type": "code",
   "execution_count": 23,
   "metadata": {
    "collapsed": false
   },
   "outputs": [
    {
     "data": {
      "text/plain": [
       "<Time object: scale='utc' format='datetime' value=[datetime.datetime(2016, 7, 9, 2, 33, 42, 605146)\n",
       " datetime.datetime(2016, 7, 10, 2, 33, 42, 605146)]>"
      ]
     },
     "execution_count": 23,
     "metadata": {},
     "output_type": "execute_result"
    }
   ],
   "source": []
  },
  {
   "cell_type": "code",
   "execution_count": 361,
   "metadata": {
    "collapsed": false
   },
   "outputs": [
    {
     "data": {
      "text/plain": [
       "astropy.coordinates.angles.Longitude"
      ]
     },
     "execution_count": 361,
     "metadata": {},
     "output_type": "execute_result"
    }
   ],
   "source": [
    "type(_)"
   ]
  },
  {
   "cell_type": "code",
   "execution_count": 105,
   "metadata": {
    "collapsed": false
   },
   "outputs": [
    {
     "name": "stdout",
     "output_type": "stream",
     "text": [
      "1158 lines successfully parsed\n",
      "2 lines failed\n"
     ]
    }
   ],
   "source": [
    "%run /home/hannes/work/obstools/transients/master.py"
   ]
  },
  {
   "cell_type": "code",
   "execution_count": 106,
   "metadata": {
    "collapsed": true
   },
   "outputs": [],
   "source": [
    "from astropy.table import Table, Column\n",
    "from astropy.coordinates.angles import Angle, Longitude\n",
    "\n",
    "import itertools as itt"
   ]
  },
  {
   "cell_type": "code",
   "execution_count": 107,
   "metadata": {
    "collapsed": false
   },
   "outputs": [
    {
     "name": "stderr",
     "output_type": "stream",
     "text": [
      "WARNING: IllegalSecondWarning: 'second' was found  to be '60.0', which is not in range [0,60). Treating as 0 sec, +1 min [astropy.coordinates.angle_utilities]\n"
     ]
    }
   ],
   "source": [
    "adata = np.array(success)\n",
    "mask = adata == ''\n",
    "mdata = np.ma.masked_where(mask, adata)\n",
    "\n",
    "num, names, dates, types = adata[:, :4].T\n",
    "\n",
    "#type conversions\n",
    "nmask = ~np.vectorize(str.isdigit)(num)\n",
    "num = np.ma.masked_where(nmask, num)\n",
    "num.filled(0).astype('i')\n",
    "\n",
    "ra, dec = itt.zip_longest(*Jparser.many2str(names))\n",
    "coomask = np.equal(ra, None) | np.equal(dec, None)\n",
    "ra = Longitude(list(filter(None, ra)), 'h')\n",
    "dec = Angle(list(filter(None, dec)), 'deg')\n",
    "\n",
    "colnames = ['num', 'name', 'date', 'type', 'mag', 'remarks', 'ref', 'site', 'pioneer', 'comments']\n",
    "# dtype = ['i', 's', 's', 's', 'f'] + ['s'] * 5\n",
    "tbl = Table(mdata, names=colnames)\n",
    "\n",
    "coords = Jparser.many2skycoord(adata[:,1])\n",
    "col = Column(name='coords', data=coords)\n",
    "tbl.add_column(col)\n"
   ]
  },
  {
   "cell_type": "code",
   "execution_count": 109,
   "metadata": {
    "collapsed": true
   },
   "outputs": [],
   "source": [
    "from astropy import units as u"
   ]
  },
  {
   "cell_type": "code",
   "execution_count": 110,
   "metadata": {
    "collapsed": false
   },
   "outputs": [],
   "source": [
    "#rough cuts\n",
    "ldec = dec < 20*u.deg\n",
    "lra = (ra > 12*u.hourangle) | (ra < 4*u.hourangle)\n",
    "lcoo = ldec & lra\n",
    "#re-insert masked values\n",
    "lcoo = np.insert(lcoo, np.where(coomask)[0], True)"
   ]
  },
  {
   "cell_type": "code",
   "execution_count": 112,
   "metadata": {
    "collapsed": false
   },
   "outputs": [
    {
     "data": {
      "text/plain": [
       "array(['828', '834', 'AGN', 'AN', 'ART', 'AST', 'Ant', 'Anti', 'Ast', 'BL',\n",
       "       'BL?', 'BLA', 'Bla', 'CV', 'CV?', 'Cmt', 'DN', 'DN?', 'EG', 'ER',\n",
       "       'GRB', 'HPM', 'M', 'Ma', 'N', 'N/DN', 'N?', 'NL', 'NOVA', 'OH',\n",
       "       'OT', 'PHA', 'PM', 'PSN', 'QSO', 'RCB', 'SL', 'SLSN', 'SN', 'SN?',\n",
       "       'TT', 'UV', 'UV?', 'UVC', 'Var', 'WD', 'X', 'XP', 'YSO'], \n",
       "      dtype='<U171')"
      ]
     },
     "execution_count": 112,
     "metadata": {},
     "output_type": "execute_result"
    }
   ],
   "source": [
    "np.unique(types)"
   ]
  },
  {
   "cell_type": "code",
   "execution_count": 113,
   "metadata": {
    "collapsed": false
   },
   "outputs": [],
   "source": [
    "interesting = ['DN', 'CV', 'NL', 'CV?', 'DN?', 'OT', 'EG']\n",
    "ltypes = np.vectorize(interesting.__contains__)(types)"
   ]
  },
  {
   "cell_type": "code",
   "execution_count": 114,
   "metadata": {
    "collapsed": false
   },
   "outputs": [
    {
     "data": {
      "text/plain": [
       "229"
      ]
     },
     "execution_count": 114,
     "metadata": {},
     "output_type": "execute_result"
    }
   ],
   "source": [
    "l = ltypes & lcoo\n",
    "sum(l)"
   ]
  },
  {
   "cell_type": "code",
   "execution_count": 115,
   "metadata": {
    "collapsed": false
   },
   "outputs": [
    {
     "data": {
      "text/plain": [
       "array([ 15.27976944,  18.00506944,  19.90143611, ...,  11.15911944,\n",
       "        23.96552222,  14.40206667])"
      ]
     },
     "execution_count": 115,
     "metadata": {},
     "output_type": "execute_result"
    }
   ],
   "source": [
    "np.array(ra)"
   ]
  },
  {
   "cell_type": "code",
   "execution_count": 116,
   "metadata": {
    "collapsed": false
   },
   "outputs": [
    {
     "data": {
      "text/html": [
       "&lt;Table masked=True length=20&gt;\n",
       "<table id=\"table139646212882048\" class=\"table-striped table-bordered table-condensed\">\n",
       "<thead><tr><th>num</th><th>name</th><th>date</th><th>type</th><th>mag</th><th>remarks</th><th>ref</th><th>site</th><th>pioneer</th><th>comments</th><th>coords</th></tr></thead>\n",
       "<thead><tr><th>str171</th><th>str171</th><th>str171</th><th>str171</th><th>str171</th><th>str171</th><th>str171</th><th>str171</th><th>str171</th><th>str171</th><th>object</th></tr></thead>\n",
       "<tr><td>1158</td><td>MASTER J180018.25+151529.1</td><td>2016 Jun  30.058</td><td>DN</td><td>16.9</td><td>--</td><td>ATel #9204</td><td>IAC</td><td>OG</td><td>Ampl&gt;5.1(POSS limit, GSC - last outburst)</td><td>&lt;SkyCoord (ICRS): (ra, dec) in deg\n",
       "    (270.07604167, 15.25808333)&gt;</td></tr>\n",
       "<tr><td>1152</td><td>MASTER J012303.34-492007.7</td><td>2016 Jun  17.096</td><td>DN</td><td>16.5</td><td>--</td><td>ATel #9174</td><td>SA</td><td>PB</td><td>Ampl&gt;4m</td><td>&lt;SkyCoord (ICRS): (ra, dec) in deg\n",
       "    (20.76391667, -49.33547222)&gt;</td></tr>\n",
       "<tr><td>1146</td><td>MASTER J011751.75-560158.6</td><td>2016 Jun  13.063</td><td>DN</td><td>19.2</td><td>--</td><td>ATel #9161</td><td>SA</td><td>VV</td><td>Ampl&gt;2.8,no VIZIER</td><td>&lt;SkyCoord (ICRS): (ra, dec) in deg\n",
       "    (19.465625, -56.03294444)&gt;</td></tr>\n",
       "<tr><td>1144</td><td>MASTER J233129.53-314648.8</td><td>2016 Jun  12.973</td><td>DN</td><td>18.4</td><td>--</td><td>ATel #9154</td><td>SA</td><td>VV</td><td>Ampl&gt;3.6</td><td>&lt;SkyCoord (ICRS): (ra, dec) in deg\n",
       "    (352.87304167, -31.78022222)&gt;</td></tr>\n",
       "<tr><td>1143</td><td>MASTER J191908.95-124942.3</td><td>2016 Jun  13.998</td><td>DN</td><td>17.2</td><td>--</td><td>ATel #9154</td><td>IAC</td><td>VV</td><td>Ampl&gt;4.5</td><td>&lt;SkyCoord (ICRS): (ra, dec) in deg\n",
       "    (289.78729167, -12.82841667)&gt;</td></tr>\n",
       "<tr><td>1141</td><td>MASTER J031316.27-261217.0</td><td>2016 Jun  01.176</td><td>DN</td><td>17.0</td><td>--</td><td>ATel #9136</td><td>SA</td><td>VS</td><td>Ampl&gt;5m,no VIZIER</td><td>&lt;SkyCoord (ICRS): (ra, dec) in deg\n",
       "    (48.31779167, -26.20472222)&gt;</td></tr>\n",
       "<tr><td>1140</td><td>MASTER J204719.21+074704.8</td><td>2016 Jun  06.174</td><td>DN</td><td>16.6</td><td>--</td><td>ATel #9136</td><td>IAC</td><td>VS</td><td>Ampl&gt;5.4 no VIZIER</td><td>&lt;SkyCoord (ICRS): (ra, dec) in deg\n",
       "    (311.83004167, 7.78466667)&gt;</td></tr>\n",
       "<tr><td>1137</td><td>MASTER J190901.75-343617.3</td><td>2016 Jun  02.085</td><td>DN</td><td>16.2</td><td>--</td><td>ATel #9120</td><td>SA</td><td>PB</td><td>Ampl&gt;5.1  GSC2.3.2 star and GALEX</td><td>&lt;SkyCoord (ICRS): (ra, dec) in deg\n",
       "    (287.25729167, -34.60480556)&gt;</td></tr>\n",
       "<tr><td>1136</td><td>MASTER J180241.86+090312.9</td><td>2016 Jun  05.133</td><td>DN</td><td>18.2</td><td>--</td><td>ATel #9120</td><td>IAC</td><td>PB</td><td>Ampl&gt;3.8, no VIZIER</td><td>&lt;SkyCoord (ICRS): (ra, dec) in deg\n",
       "    (270.67441667, 9.05358333)&gt;</td></tr>\n",
       "<tr><td>1135</td><td>MASTER J200308.64+023410.4</td><td>2016 Jun  02.149</td><td>DN</td><td>16.3</td><td>--</td><td>ATel #9120</td><td>IAC</td><td>OG</td><td>Ampl&gt;5.6 GSC star with only blue 21.32</td><td>&lt;SkyCoord (ICRS): (ra, dec) in deg\n",
       "    (300.786, 2.56955556)&gt;</td></tr>\n",
       "<tr><td>1134</td><td>MASTER J130523.22-033819.6</td><td>2016 May  30.810</td><td>DN</td><td>18.7</td><td>--</td><td>ATel #9120</td><td>SA</td><td>OG</td><td>Ampl&gt;3.3,no VIZIER</td><td>&lt;SkyCoord (ICRS): (ra, dec) in deg\n",
       "    (196.34675, -3.63877778)&gt;</td></tr>\n",
       "<tr><td>1132</td><td>MASTER J162941.70-313616.0</td><td>2016 May  29.988</td><td>DN</td><td>17.0</td><td>--</td><td>ATel #9104</td><td>SA</td><td>VS</td><td>Ampl&gt;5</td><td>&lt;SkyCoord (ICRS): (ra, dec) in deg\n",
       "    (247.42375, -31.60444444)&gt;</td></tr>\n",
       "<tr><td>1129</td><td>MASTER J203111.28-625350.6</td><td>2016 May  16.85</td><td>DN</td><td>16.7</td><td>--</td><td>ATel #9078</td><td>SA</td><td>TP</td><td>Ampl&gt;5.3</td><td>&lt;SkyCoord (ICRS): (ra, dec) in deg\n",
       "    (307.797, -62.89738889)&gt;</td></tr>\n",
       "<tr><td>1127</td><td>MASTER J145417.82-351735.6</td><td>2016 May  11.971</td><td>DN</td><td>17.3</td><td>--</td><td>ATel #9063</td><td>SA</td><td>EP</td><td>Ampl&gt;4.7, no VIZIER</td><td>&lt;SkyCoord (ICRS): (ra, dec) in deg\n",
       "    (223.57425, -35.29322222)&gt;</td></tr>\n",
       "<tr><td>1126</td><td>MASTER J171812.59+060815.8</td><td>2016 May  16.921</td><td>DN</td><td>17.4</td><td>--</td><td>ATel #9063</td><td>SA</td><td>PB</td><td>Ampl&gt;4.6, no VIZIER</td><td>&lt;SkyCoord (ICRS): (ra, dec) in deg\n",
       "    (259.55245833, 6.13772222)&gt;</td></tr>\n",
       "<tr><td>1125</td><td>MASTER J155833.96-232213.9</td><td>2016 May  12.014</td><td>DN</td><td>18.4</td><td>--</td><td>ATel #9063</td><td>SA</td><td>OG</td><td>Ampl&gt;3.6,no VIZIER</td><td>&lt;SkyCoord (ICRS): (ra, dec) in deg\n",
       "    (239.6415, -23.37052778)&gt;</td></tr>\n",
       "<tr><td>1124</td><td>MASTER J183747.26-520558.2</td><td>2016 May  15.912</td><td>DN</td><td>17.1</td><td>--</td><td>ATel #9063</td><td>SA</td><td>NT</td><td>Ampl&gt;4.9</td><td>&lt;SkyCoord (ICRS): (ra, dec) in deg\n",
       "    (279.44691667, -52.0995)&gt;</td></tr>\n",
       "<tr><td>1123</td><td>MASTER J192544.94-202113.1</td><td>2016 May  16.923</td><td>DN</td><td>16.8</td><td>--</td><td>ATel #9063</td><td>SA</td><td>PB</td><td>Ampl&gt;5.2</td><td>&lt;SkyCoord (ICRS): (ra, dec) in deg\n",
       "    (291.43725, -20.35363889)&gt;</td></tr>\n",
       "<tr><td>1118</td><td>MASTER J153105.22-260437.2</td><td>2016 May  07.994</td><td>DN</td><td>17.7</td><td>--</td><td>ATel #9042</td><td>SA</td><td>PB</td><td>Ampl&gt;4.3,no VIZIEr</td><td>&lt;SkyCoord (ICRS): (ra, dec) in deg\n",
       "    (232.77175, -26.077)&gt;</td></tr>\n",
       "<tr><td>1112</td><td>MASTER J151830.91-770656.7</td><td>2016 Apr  27.931</td><td>DN</td><td>18.3</td><td>--</td><td>ATel #9007</td><td>SA</td><td>SS</td><td>Ampl&gt;3.3</td><td>&lt;SkyCoord (ICRS): (ra, dec) in deg\n",
       "    (229.62879167, -77.11575)&gt;</td></tr>\n",
       "</table>"
      ],
      "text/plain": [
       "<Table masked=True length=20>\n",
       " num   ...                                coords                               \n",
       "str171 ...                                object                               \n",
       "------ ... --------------------------------------------------------------------\n",
       "  1158 ...  <SkyCoord (ICRS): (ra, dec) in deg\n",
       "    (270.07604167, 15.25808333)>\n",
       "  1152 ...  <SkyCoord (ICRS): (ra, dec) in deg\n",
       "    (20.76391667, -49.33547222)>\n",
       "  1146 ...    <SkyCoord (ICRS): (ra, dec) in deg\n",
       "    (19.465625, -56.03294444)>\n",
       "  1144 ... <SkyCoord (ICRS): (ra, dec) in deg\n",
       "    (352.87304167, -31.78022222)>\n",
       "  1143 ... <SkyCoord (ICRS): (ra, dec) in deg\n",
       "    (289.78729167, -12.82841667)>\n",
       "  1141 ...  <SkyCoord (ICRS): (ra, dec) in deg\n",
       "    (48.31779167, -26.20472222)>\n",
       "  1140 ...   <SkyCoord (ICRS): (ra, dec) in deg\n",
       "    (311.83004167, 7.78466667)>\n",
       "  1137 ... <SkyCoord (ICRS): (ra, dec) in deg\n",
       "    (287.25729167, -34.60480556)>\n",
       "  1136 ...   <SkyCoord (ICRS): (ra, dec) in deg\n",
       "    (270.67441667, 9.05358333)>\n",
       "  1135 ...        <SkyCoord (ICRS): (ra, dec) in deg\n",
       "    (300.786, 2.56955556)>\n",
       "  1134 ...     <SkyCoord (ICRS): (ra, dec) in deg\n",
       "    (196.34675, -3.63877778)>\n",
       "  1132 ...    <SkyCoord (ICRS): (ra, dec) in deg\n",
       "    (247.42375, -31.60444444)>\n",
       "  1129 ...      <SkyCoord (ICRS): (ra, dec) in deg\n",
       "    (307.797, -62.89738889)>\n",
       "  1127 ...    <SkyCoord (ICRS): (ra, dec) in deg\n",
       "    (223.57425, -35.29322222)>\n",
       "  1126 ...   <SkyCoord (ICRS): (ra, dec) in deg\n",
       "    (259.55245833, 6.13772222)>\n",
       "  1125 ...     <SkyCoord (ICRS): (ra, dec) in deg\n",
       "    (239.6415, -23.37052778)>\n",
       "  1124 ...     <SkyCoord (ICRS): (ra, dec) in deg\n",
       "    (279.44691667, -52.0995)>\n",
       "  1123 ...    <SkyCoord (ICRS): (ra, dec) in deg\n",
       "    (291.43725, -20.35363889)>\n",
       "  1118 ...         <SkyCoord (ICRS): (ra, dec) in deg\n",
       "    (232.77175, -26.077)>\n",
       "  1112 ...    <SkyCoord (ICRS): (ra, dec) in deg\n",
       "    (229.62879167, -77.11575)>"
      ]
     },
     "execution_count": 116,
     "metadata": {},
     "output_type": "execute_result"
    }
   ],
   "source": [
    "seg = tbl[l][:20]\n",
    "seg"
   ]
  },
  {
   "cell_type": "code",
   "execution_count": 117,
   "metadata": {
    "collapsed": true
   },
   "outputs": [],
   "source": [
    "faint = ['MASTER J012303.34-492007.7', 'MASTER J162941.70-313616.0',  'MASTER J191908.95-124942.3',\n",
    "         'MASTER J203111.28-625350.6', 'MASTER J180018.25+151529.1']"
   ]
  },
  {
   "cell_type": "code",
   "execution_count": 118,
   "metadata": {
    "collapsed": false
   },
   "outputs": [],
   "source": [
    "viz = VisPlot()"
   ]
  },
  {
   "cell_type": "code",
   "execution_count": 119,
   "metadata": {
    "collapsed": false
   },
   "outputs": [],
   "source": [
    "for name, coo in seg['name', 'coords']:\n",
    "    if not name in faint:\n",
    "        viz.targets[name] = coo"
   ]
  },
  {
   "cell_type": "code",
   "execution_count": 120,
   "metadata": {
    "collapsed": false
   },
   "outputs": [],
   "source": [
    "viz.plot_vis(cmap='jet', sort=False)\n",
    "viz.connect()           #Setup legend picking"
   ]
  },
  {
   "cell_type": "code",
   "execution_count": 367,
   "metadata": {
    "collapsed": false
   },
   "outputs": [],
   "source": [
    "viz.add_target('FO Aqr')"
   ]
  },
  {
   "cell_type": "code",
   "execution_count": 297,
   "metadata": {
    "collapsed": true
   },
   "outputs": [],
   "source": [
    "sorter?"
   ]
  },
  {
   "cell_type": "code",
   "execution_count": 302,
   "metadata": {
    "collapsed": false
   },
   "outputs": [
    {
     "data": {
      "text/plain": [
       "0.9504355530965909"
      ]
     },
     "execution_count": 302,
     "metadata": {},
     "output_type": "execute_result"
    }
   ],
   "source": [
    "np.pi - viz.moon_phase"
   ]
  },
  {
   "cell_type": "code",
   "execution_count": 40,
   "metadata": {
    "collapsed": false
   },
   "outputs": [
    {
     "data": {
      "text/plain": [
       "<matplotlib.legend.Legend at 0x7f968859c208>"
      ]
     },
     "execution_count": 40,
     "metadata": {},
     "output_type": "execute_result"
    }
   ],
   "source": [
    "viz.ax.legend()"
   ]
  },
  {
   "cell_type": "code",
   "execution_count": 227,
   "metadata": {
    "collapsed": false
   },
   "outputs": [
    {
     "data": {
      "text/html": [
       "&lt;Table masked=True length=1158&gt;\n",
       "<table id=\"table140154179201344\" class=\"table-striped table-bordered table-condensed\">\n",
       "<thead><tr><th>num</th><th>name</th><th>date</th><th>type</th><th>mag</th><th>remarks</th><th>ref</th><th>site</th><th>pioneer</th><th>comments</th><th>coords</th></tr></thead>\n",
       "<thead><tr><th>str171</th><th>str171</th><th>str171</th><th>str171</th><th>str171</th><th>str171</th><th>str171</th><th>str171</th><th>str171</th><th>str171</th><th>object</th></tr></thead>\n",
       "<tr><td>1159</td><td>MASTER J151647.17+283742.8</td><td>2016 Jun  28.972</td><td>SN</td><td>17.8</td><td>--</td><td>ATel #9204</td><td>IAC</td><td>OG</td><td>26.4W,16.2S of PGC1841447</td><td>&lt;SkyCoord (ICRS): (ra, dec) in deg\n",
       "    (229.19654167, 28.62855556)&gt;</td></tr>\n",
       "<tr><td>1158</td><td>MASTER J180018.25+151529.1</td><td>2016 Jun  30.058</td><td>DN</td><td>16.9</td><td>--</td><td>ATel #9204</td><td>IAC</td><td>OG</td><td>Ampl&gt;5.1(POSS limit, GSC - last outburst)</td><td>&lt;SkyCoord (ICRS): (ra, dec) in deg\n",
       "    (270.07604167, 15.25808333)&gt;</td></tr>\n",
       "<tr><td>1157</td><td>MASTER J195405.17+204126.6</td><td>2016 Jun  28.010</td><td>YSO</td><td>13.9</td><td>--</td><td>ATel #9204</td><td>Kis</td><td>SS</td><td>SVM selection of WISE YSO Candidates</td><td>&lt;SkyCoord (ICRS): (ra, dec) in deg\n",
       "    (298.52154167, 20.69072222)&gt;</td></tr>\n",
       "<tr><td>1156</td><td>MASTER J174714.69-291852.2</td><td>2016 Jun  11.031</td><td>YSO</td><td>17.0</td><td>--</td><td>ATel #9204</td><td>SA</td><td>TP</td><td>There is no source in POSS, =&gt; optical ampl&gt;5 SVM selection of WISE YSO Candidates</td><td>&lt;SkyCoord (ICRS): (ra, dec) in deg\n",
       "    (266.81120833, -29.3145)&gt;</td></tr>\n",
       "<tr><td>1155</td><td>MASTER J203423.51+065507.9</td><td>2016 Jun  25</td><td>GRB</td><td>--</td><td>--</td><td>GCN  19612</td><td>IAC</td><td>VS</td><td>MASTER  prompt polarization, see GCN</td><td>&lt;SkyCoord (ICRS): (ra, dec) in deg\n",
       "    (308.59795833, 6.91886111)&gt;</td></tr>\n",
       "<tr><td>1154</td><td>MASTER J104916.33+582039.9</td><td>2016 Jun  29.682</td><td>SN</td><td>15.9</td><td>--</td><td>ATel #9200</td><td>Tun</td><td>OG</td><td>16.5W,2.5S of UGC05919</td><td>&lt;SkyCoord (ICRS): (ra, dec) in deg\n",
       "    (162.31804167, 58.34441667)&gt;</td></tr>\n",
       "<tr><td>1153</td><td>MASTER J211223.35+144645.1</td><td>2016 Jun  21.083</td><td>SN</td><td>16.2</td><td>--</td><td>ATel #9174</td><td>IAC</td><td>OG</td><td>4&quot; from unknown galaxy (GALEX galaxy)</td><td>&lt;SkyCoord (ICRS): (ra, dec) in deg\n",
       "    (318.09729167, 14.77919444)&gt;</td></tr>\n",
       "<tr><td>1152</td><td>MASTER J012303.34-492007.7</td><td>2016 Jun  17.096</td><td>DN</td><td>16.5</td><td>--</td><td>ATel #9174</td><td>SA</td><td>PB</td><td>Ampl&gt;4m</td><td>&lt;SkyCoord (ICRS): (ra, dec) in deg\n",
       "    (20.76391667, -49.33547222)&gt;</td></tr>\n",
       "<tr><td>1151</td><td>MASTER J095958.98-190100.6</td><td>2016 Jun  17.779</td><td>N?</td><td>13.3</td><td>--</td><td>ATel #9174</td><td>SA</td><td>PB</td><td>Ampl&gt;7m, high amplitude dwarf nova or Nova?</td><td>&lt;SkyCoord (ICRS): (ra, dec) in deg\n",
       "    (149.99575, -19.01683333)&gt;</td></tr>\n",
       "<tr><td>1150</td><td>MASTER J164511.95+275227.2</td><td>2016 Jun  12.014</td><td>QSO</td><td>15.8</td><td>--</td><td>ATel #9166</td><td>IAC</td><td>PB</td><td>bright (15.8m) QSO flare</td><td>&lt;SkyCoord (ICRS): (ra, dec) in deg\n",
       "    (251.29979167, 27.87422222)&gt;</td></tr>\n",
       "<tr><td>...</td><td>...</td><td>...</td><td>...</td><td>...</td><td>...</td><td>...</td><td>...</td><td>...</td><td>...</td><td>...</td></tr>\n",
       "<tr><td>010</td><td>MASTER J015347.24+303844.0</td><td>2010 Oct. 01.98</td><td>CV</td><td>17.9</td><td>Tri</td><td>ATel #2931</td><td>Kis</td><td>PB</td><td>--</td><td>&lt;SkyCoord (ICRS): (ra, dec) in deg\n",
       "    (28.44683333, 30.64555556)&gt;</td></tr>\n",
       "<tr><td>009</td><td>MASTER J071948.91+405332.3</td><td>2010 Sep. 27.99</td><td>CV</td><td>16.7</td><td>Aur</td><td>ATel #2878</td><td>Kis</td><td>VS</td><td>SDSS r=21.54</td><td>&lt;SkyCoord (ICRS): (ra, dec) in deg\n",
       "    (109.95379167, 40.89230556)&gt;</td></tr>\n",
       "<tr><td>008</td><td>MASTER J155011.27+121642.2</td><td>2010 June 14.86</td><td>SN</td><td>18.0</td><td>Ser</td><td>ATel #2756</td><td>Kis</td><td>EG</td><td>CSS 2010er June 09</td><td>&lt;SkyCoord (ICRS): (ra, dec) in deg\n",
       "    (237.54695833, 12.27838889)&gt;</td></tr>\n",
       "<tr><td>007</td><td>MASTER J124529.52+535149.2</td><td>2010 May  29.973</td><td>SN</td><td>17.6</td><td>UMa</td><td>CBET #2320</td><td>Kis</td><td>VS</td><td>2010ea ?</td><td>&lt;SkyCoord (ICRS): (ra, dec) in deg\n",
       "    (191.373, 53.86366667)&gt;</td></tr>\n",
       "<tr><td>006</td><td>MASTER J142838.46+303809.5</td><td>2010 Feb. 04.096</td><td>SN</td><td>14.3</td><td>Boo</td><td>CBET #2162</td><td>Kis</td><td>PB</td><td>2010V  (Ia)</td><td>&lt;SkyCoord (ICRS): (ra, dec) in deg\n",
       "    (217.16025, 30.63597222)&gt;</td></tr>\n",
       "<tr><td>005</td><td>MASTER J131058.95+112929.3</td><td>2009 Dec. 22.901</td><td>SN</td><td>13.6</td><td>Vir</td><td>CBET #2111</td><td>Amu</td><td>PB</td><td>2009nr (Ia)</td><td>&lt;SkyCoord (ICRS): (ra, dec) in deg\n",
       "    (197.745625, 11.49147222)&gt;</td></tr>\n",
       "<tr><td>004</td><td>MASTER J031000.96+191323.1</td><td>2008 Oct. 30.99</td><td>SN</td><td>17.7</td><td>Ari</td><td>CBET #1565</td><td>Dom</td><td>PB</td><td>2008gy (Ia)</td><td>&lt;SkyCoord (ICRS): (ra, dec) in deg\n",
       "    (47.504, 19.22308333)&gt;</td></tr>\n",
       "<tr><td>003</td><td>MASTER J110932.83+283750.3</td><td>2006 Feb. 17.969</td><td>SN</td><td>15.8</td><td>UMa</td><td>CBET  #408</td><td>Dom</td><td>NT</td><td>2006ak (Ia)</td><td>&lt;SkyCoord (ICRS): (ra, dec) in deg\n",
       "    (167.38679167, 28.63063889)&gt;</td></tr>\n",
       "<tr><td>002</td><td>MASTER J235755.88+323814.5</td><td>2005 Aug. 25.92</td><td>SN</td><td>16.0</td><td>And</td><td>IAUC #8603</td><td>Dom</td><td>NT</td><td>2005ee (II)</td><td>&lt;SkyCoord (ICRS): (ra, dec) in deg\n",
       "    (359.48283333, 32.63736111)&gt;</td></tr>\n",
       "<tr><td>001</td><td>MASTER J142407.44+261750.3</td><td>2005 Apr. 20.939</td><td>SN</td><td>16.5</td><td>Boo</td><td>CBET  #146</td><td>Dom</td><td>NT</td><td>2005bv (Ia)</td><td>&lt;SkyCoord (ICRS): (ra, dec) in deg\n",
       "    (216.031, 26.29730556)&gt;</td></tr>\n",
       "</table>"
      ],
      "text/plain": [
       "<Table masked=True length=1158>\n",
       " num   ...                                coords                              \n",
       "str171 ...                                object                              \n",
       "------ ... -------------------------------------------------------------------\n",
       "  1159 ... <SkyCoord (ICRS): (ra, dec) in deg\n",
       "    (229.19654167, 28.62855556)>\n",
       "  1158 ... <SkyCoord (ICRS): (ra, dec) in deg\n",
       "    (270.07604167, 15.25808333)>\n",
       "  1157 ... <SkyCoord (ICRS): (ra, dec) in deg\n",
       "    (298.52154167, 20.69072222)>\n",
       "  1156 ...    <SkyCoord (ICRS): (ra, dec) in deg\n",
       "    (266.81120833, -29.3145)>\n",
       "  1155 ...  <SkyCoord (ICRS): (ra, dec) in deg\n",
       "    (308.59795833, 6.91886111)>\n",
       "  1154 ... <SkyCoord (ICRS): (ra, dec) in deg\n",
       "    (162.31804167, 58.34441667)>\n",
       "  1153 ... <SkyCoord (ICRS): (ra, dec) in deg\n",
       "    (318.09729167, 14.77919444)>\n",
       "  1152 ... <SkyCoord (ICRS): (ra, dec) in deg\n",
       "    (20.76391667, -49.33547222)>\n",
       "  1151 ...   <SkyCoord (ICRS): (ra, dec) in deg\n",
       "    (149.99575, -19.01683333)>\n",
       "  1150 ... <SkyCoord (ICRS): (ra, dec) in deg\n",
       "    (251.29979167, 27.87422222)>\n",
       "   ... ...                                                                 ...\n",
       "   010 ...  <SkyCoord (ICRS): (ra, dec) in deg\n",
       "    (28.44683333, 30.64555556)>\n",
       "   009 ... <SkyCoord (ICRS): (ra, dec) in deg\n",
       "    (109.95379167, 40.89230556)>\n",
       "   008 ... <SkyCoord (ICRS): (ra, dec) in deg\n",
       "    (237.54695833, 12.27838889)>\n",
       "   007 ...      <SkyCoord (ICRS): (ra, dec) in deg\n",
       "    (191.373, 53.86366667)>\n",
       "   006 ...    <SkyCoord (ICRS): (ra, dec) in deg\n",
       "    (217.16025, 30.63597222)>\n",
       "   005 ...   <SkyCoord (ICRS): (ra, dec) in deg\n",
       "    (197.745625, 11.49147222)>\n",
       "   004 ...       <SkyCoord (ICRS): (ra, dec) in deg\n",
       "    (47.504, 19.22308333)>\n",
       "   003 ... <SkyCoord (ICRS): (ra, dec) in deg\n",
       "    (167.38679167, 28.63063889)>\n",
       "   002 ... <SkyCoord (ICRS): (ra, dec) in deg\n",
       "    (359.48283333, 32.63736111)>\n",
       "   001 ...      <SkyCoord (ICRS): (ra, dec) in deg\n",
       "    (216.031, 26.29730556)>"
      ]
     },
     "execution_count": 227,
     "metadata": {},
     "output_type": "execute_result"
    }
   ],
   "source": [
    "tbl?"
   ]
  },
  {
   "cell_type": "code",
   "execution_count": 512,
   "metadata": {
    "collapsed": false
   },
   "outputs": [
    {
     "name": "stderr",
     "output_type": "stream",
     "text": [
      "WARNING: IllegalSecondWarning: 'second' was found  to be '60.0', which is not in range [0,60). Treating as 0 sec, +1 min [astropy.coordinates.angle_utilities]\n"
     ]
    }
   ],
   "source": [
    "for i, coo in enumerate(cool):\n",
    "    if coo:\n",
    "        SkyCoord(coo, unit=('h', 'deg'))"
   ]
  },
  {
   "cell_type": "code",
   "execution_count": 508,
   "metadata": {
    "collapsed": false
   },
   "outputs": [
    {
     "data": {
      "text/plain": [
       "(308, '+64:47:45.0')"
      ]
     },
     "execution_count": 508,
     "metadata": {},
     "output_type": "execute_result"
    }
   ],
   "source": []
  },
  {
   "cell_type": "code",
   "execution_count": 513,
   "metadata": {
    "collapsed": false
   },
   "outputs": [
    {
     "data": {
      "text/plain": [
       "'MASTER J71803.26+644745.0'"
      ]
     },
     "execution_count": 513,
     "metadata": {},
     "output_type": "execute_result"
    }
   ],
   "source": [
    "tbl['name'][308]"
   ]
  },
  {
   "cell_type": "code",
   "execution_count": 500,
   "metadata": {
    "collapsed": false
   },
   "outputs": [
    {
     "ename": "ValueError",
     "evalue": "('Cannot parse first argument data \"\" for attribute ra', ValueError(\"Syntax error parsing angle ''\",))",
     "output_type": "error",
     "traceback": [
      "\u001b[1;31m---------------------------------------------------------------------------\u001b[0m",
      "\u001b[1;31mValueError\u001b[0m                                Traceback (most recent call last)",
      "\u001b[1;32m/usr/local/lib/python3.5/dist-packages/astropy-1.2.dev15837-py3.5-linux-x86_64.egg/astropy/coordinates/angle_utilities.py\u001b[0m in \u001b[0;36mparse\u001b[1;34m(self, angle, unit, debug)\u001b[0m\n\u001b[0;32m    254\u001b[0m             found_angle, found_unit = self._parser.parse(\n\u001b[1;32m--> 255\u001b[1;33m                 angle, lexer=self._lexer, debug=debug)\n\u001b[0m\u001b[0;32m    256\u001b[0m         \u001b[1;32mexcept\u001b[0m \u001b[0mValueError\u001b[0m \u001b[1;32mas\u001b[0m \u001b[0me\u001b[0m\u001b[1;33m:\u001b[0m\u001b[1;33m\u001b[0m\u001b[0m\n",
      "\u001b[1;32m/usr/local/lib/python3.5/dist-packages/astropy-1.2.dev15837-py3.5-linux-x86_64.egg/astropy/extern/ply/yacc.py\u001b[0m in \u001b[0;36mparse\u001b[1;34m(self, input, lexer, debug, tracking, tokenfunc)\u001b[0m\n\u001b[0;32m    330\u001b[0m         \u001b[1;32melse\u001b[0m\u001b[1;33m:\u001b[0m\u001b[1;33m\u001b[0m\u001b[0m\n\u001b[1;32m--> 331\u001b[1;33m             \u001b[1;32mreturn\u001b[0m \u001b[0mself\u001b[0m\u001b[1;33m.\u001b[0m\u001b[0mparseopt_notrack\u001b[0m\u001b[1;33m(\u001b[0m\u001b[0minput\u001b[0m\u001b[1;33m,\u001b[0m \u001b[0mlexer\u001b[0m\u001b[1;33m,\u001b[0m \u001b[0mdebug\u001b[0m\u001b[1;33m,\u001b[0m \u001b[0mtracking\u001b[0m\u001b[1;33m,\u001b[0m \u001b[0mtokenfunc\u001b[0m\u001b[1;33m)\u001b[0m\u001b[1;33m\u001b[0m\u001b[0m\n\u001b[0m\u001b[0;32m    332\u001b[0m \u001b[1;33m\u001b[0m\u001b[0m\n",
      "\u001b[1;32m/usr/local/lib/python3.5/dist-packages/astropy-1.2.dev15837-py3.5-linux-x86_64.egg/astropy/extern/ply/yacc.py\u001b[0m in \u001b[0;36mparseopt_notrack\u001b[1;34m(self, input, lexer, debug, tracking, tokenfunc)\u001b[0m\n\u001b[0;32m   1180\u001b[0m                             \u001b[0merrtoken\u001b[0m\u001b[1;33m.\u001b[0m\u001b[0mlexer\u001b[0m \u001b[1;33m=\u001b[0m \u001b[0mlexer\u001b[0m\u001b[1;33m\u001b[0m\u001b[0m\n\u001b[1;32m-> 1181\u001b[1;33m                         \u001b[0mtok\u001b[0m \u001b[1;33m=\u001b[0m \u001b[0mcall_errorfunc\u001b[0m\u001b[1;33m(\u001b[0m\u001b[0mself\u001b[0m\u001b[1;33m.\u001b[0m\u001b[0merrorfunc\u001b[0m\u001b[1;33m,\u001b[0m \u001b[0merrtoken\u001b[0m\u001b[1;33m,\u001b[0m \u001b[0mself\u001b[0m\u001b[1;33m)\u001b[0m\u001b[1;33m\u001b[0m\u001b[0m\n\u001b[0m\u001b[0;32m   1182\u001b[0m                         \u001b[1;32mif\u001b[0m \u001b[0mself\u001b[0m\u001b[1;33m.\u001b[0m\u001b[0merrorok\u001b[0m\u001b[1;33m:\u001b[0m\u001b[1;33m\u001b[0m\u001b[0m\n",
      "\u001b[1;32m/usr/local/lib/python3.5/dist-packages/astropy-1.2.dev15837-py3.5-linux-x86_64.egg/astropy/extern/ply/yacc.py\u001b[0m in \u001b[0;36mcall_errorfunc\u001b[1;34m(errorfunc, token, parser)\u001b[0m\n\u001b[0;32m    192\u001b[0m     \u001b[0m_restart\u001b[0m \u001b[1;33m=\u001b[0m \u001b[0mparser\u001b[0m\u001b[1;33m.\u001b[0m\u001b[0mrestart\u001b[0m\u001b[1;33m\u001b[0m\u001b[0m\n\u001b[1;32m--> 193\u001b[1;33m     \u001b[0mr\u001b[0m \u001b[1;33m=\u001b[0m \u001b[0merrorfunc\u001b[0m\u001b[1;33m(\u001b[0m\u001b[0mtoken\u001b[0m\u001b[1;33m)\u001b[0m\u001b[1;33m\u001b[0m\u001b[0m\n\u001b[0m\u001b[0;32m    194\u001b[0m     \u001b[1;32mtry\u001b[0m\u001b[1;33m:\u001b[0m\u001b[1;33m\u001b[0m\u001b[0m\n",
      "\u001b[1;32m/usr/local/lib/python3.5/dist-packages/astropy-1.2.dev15837-py3.5-linux-x86_64.egg/astropy/coordinates/angle_utilities.py\u001b[0m in \u001b[0;36mp_error\u001b[1;34m(p)\u001b[0m\n\u001b[0;32m    243\u001b[0m         \u001b[1;32mdef\u001b[0m \u001b[0mp_error\u001b[0m\u001b[1;33m(\u001b[0m\u001b[0mp\u001b[0m\u001b[1;33m)\u001b[0m\u001b[1;33m:\u001b[0m\u001b[1;33m\u001b[0m\u001b[0m\n\u001b[1;32m--> 244\u001b[1;33m             \u001b[1;32mraise\u001b[0m \u001b[0mValueError\u001b[0m\u001b[1;33m\u001b[0m\u001b[0m\n\u001b[0m\u001b[0;32m    245\u001b[0m \u001b[1;33m\u001b[0m\u001b[0m\n",
      "\u001b[1;31mValueError\u001b[0m: ",
      "\nDuring handling of the above exception, another exception occurred:\n",
      "\u001b[1;31mValueError\u001b[0m                                Traceback (most recent call last)",
      "\u001b[1;32m/usr/local/lib/python3.5/dist-packages/astropy-1.2.dev15837-py3.5-linux-x86_64.egg/astropy/coordinates/sky_coordinate.py\u001b[0m in \u001b[0;36m_parse_coordinate_arg\u001b[1;34m(coords, frame, units, init_kwargs)\u001b[0m\n\u001b[0;32m   1563\u001b[0m             valid_kwargs[frame_attr_name] = repr_attr_class(value, unit=unit,\n\u001b[1;32m-> 1564\u001b[1;33m                                                             copy=False)\n\u001b[0m\u001b[0;32m   1565\u001b[0m     \u001b[1;32mexcept\u001b[0m \u001b[0mException\u001b[0m \u001b[1;32mas\u001b[0m \u001b[0merr\u001b[0m\u001b[1;33m:\u001b[0m\u001b[1;33m\u001b[0m\u001b[0m\n",
      "\u001b[1;32m/usr/local/lib/python3.5/dist-packages/astropy-1.2.dev15837-py3.5-linux-x86_64.egg/astropy/coordinates/angles.py\u001b[0m in \u001b[0;36m__new__\u001b[1;34m(cls, angle, unit, wrap_angle, **kwargs)\u001b[0m\n\u001b[0;32m    598\u001b[0m                             \"a Latitude angle.\")\n\u001b[1;32m--> 599\u001b[1;33m         \u001b[0mself\u001b[0m \u001b[1;33m=\u001b[0m \u001b[0msuper\u001b[0m\u001b[1;33m(\u001b[0m\u001b[0mLongitude\u001b[0m\u001b[1;33m,\u001b[0m \u001b[0mcls\u001b[0m\u001b[1;33m)\u001b[0m\u001b[1;33m.\u001b[0m\u001b[0m__new__\u001b[0m\u001b[1;33m(\u001b[0m\u001b[0mcls\u001b[0m\u001b[1;33m,\u001b[0m \u001b[0mangle\u001b[0m\u001b[1;33m,\u001b[0m \u001b[0munit\u001b[0m\u001b[1;33m=\u001b[0m\u001b[0munit\u001b[0m\u001b[1;33m,\u001b[0m \u001b[1;33m**\u001b[0m\u001b[0mkwargs\u001b[0m\u001b[1;33m)\u001b[0m\u001b[1;33m\u001b[0m\u001b[0m\n\u001b[0m\u001b[0;32m    600\u001b[0m         \u001b[1;32mif\u001b[0m \u001b[0mwrap_angle\u001b[0m \u001b[1;32mis\u001b[0m \u001b[1;32mNone\u001b[0m\u001b[1;33m:\u001b[0m\u001b[1;33m\u001b[0m\u001b[0m\n",
      "\u001b[1;32m/usr/local/lib/python3.5/dist-packages/astropy-1.2.dev15837-py3.5-linux-x86_64.egg/astropy/coordinates/angles.py\u001b[0m in \u001b[0;36m__new__\u001b[1;34m(cls, angle, unit, dtype, copy)\u001b[0m\n\u001b[0;32m     98\u001b[0m             \u001b[1;32melif\u001b[0m \u001b[0misinstance\u001b[0m\u001b[1;33m(\u001b[0m\u001b[0mangle\u001b[0m\u001b[1;33m,\u001b[0m \u001b[0msix\u001b[0m\u001b[1;33m.\u001b[0m\u001b[0mstring_types\u001b[0m\u001b[1;33m)\u001b[0m\u001b[1;33m:\u001b[0m\u001b[1;33m\u001b[0m\u001b[0m\n\u001b[1;32m---> 99\u001b[1;33m                 \u001b[0mangle\u001b[0m\u001b[1;33m,\u001b[0m \u001b[0mangle_unit\u001b[0m \u001b[1;33m=\u001b[0m \u001b[0mutil\u001b[0m\u001b[1;33m.\u001b[0m\u001b[0mparse_angle\u001b[0m\u001b[1;33m(\u001b[0m\u001b[0mangle\u001b[0m\u001b[1;33m,\u001b[0m \u001b[0munit\u001b[0m\u001b[1;33m)\u001b[0m\u001b[1;33m\u001b[0m\u001b[0m\n\u001b[0m\u001b[0;32m    100\u001b[0m                 \u001b[1;32mif\u001b[0m \u001b[0mangle_unit\u001b[0m \u001b[1;32mis\u001b[0m \u001b[1;32mNone\u001b[0m\u001b[1;33m:\u001b[0m\u001b[1;33m\u001b[0m\u001b[0m\n",
      "\u001b[1;32m/usr/local/lib/python3.5/dist-packages/astropy-1.2.dev15837-py3.5-linux-x86_64.egg/astropy/coordinates/angle_utilities.py\u001b[0m in \u001b[0;36mparse_angle\u001b[1;34m(angle, unit, debug)\u001b[0m\n\u001b[0;32m    347\u001b[0m     \"\"\"\n\u001b[1;32m--> 348\u001b[1;33m     \u001b[1;32mreturn\u001b[0m \u001b[0m_AngleParser\u001b[0m\u001b[1;33m(\u001b[0m\u001b[1;33m)\u001b[0m\u001b[1;33m.\u001b[0m\u001b[0mparse\u001b[0m\u001b[1;33m(\u001b[0m\u001b[0mangle\u001b[0m\u001b[1;33m,\u001b[0m \u001b[0munit\u001b[0m\u001b[1;33m,\u001b[0m \u001b[0mdebug\u001b[0m\u001b[1;33m=\u001b[0m\u001b[0mdebug\u001b[0m\u001b[1;33m)\u001b[0m\u001b[1;33m\u001b[0m\u001b[0m\n\u001b[0m\u001b[0;32m    349\u001b[0m \u001b[1;33m\u001b[0m\u001b[0m\n",
      "\u001b[1;32m/usr/local/lib/python3.5/dist-packages/astropy-1.2.dev15837-py3.5-linux-x86_64.egg/astropy/coordinates/angle_utilities.py\u001b[0m in \u001b[0;36mparse\u001b[1;34m(self, angle, unit, debug)\u001b[0m\n\u001b[0;32m    261\u001b[0m                 raise ValueError(\n\u001b[1;32m--> 262\u001b[1;33m                     \"Syntax error parsing angle {0!r}\".format(angle))\n\u001b[0m\u001b[0;32m    263\u001b[0m \u001b[1;33m\u001b[0m\u001b[0m\n",
      "\u001b[1;31mValueError\u001b[0m: Syntax error parsing angle ''",
      "\nDuring handling of the above exception, another exception occurred:\n",
      "\u001b[1;31mValueError\u001b[0m                                Traceback (most recent call last)",
      "\u001b[1;32m<ipython-input-500-6edcc496da74>\u001b[0m in \u001b[0;36m<module>\u001b[1;34m()\u001b[0m\n\u001b[1;32m----> 1\u001b[1;33m \u001b[0msc\u001b[0m \u001b[1;33m=\u001b[0m \u001b[0mJparser\u001b[0m\u001b[1;33m.\u001b[0m\u001b[0mmany2skycoord\u001b[0m\u001b[1;33m(\u001b[0m\u001b[0mtbl\u001b[0m\u001b[1;33m[\u001b[0m\u001b[1;34m'name'\u001b[0m\u001b[1;33m]\u001b[0m\u001b[1;33m)\u001b[0m\u001b[1;33m\u001b[0m\u001b[0m\n\u001b[0m",
      "\u001b[1;32m<ipython-input-498-0c82e1413216>\u001b[0m in \u001b[0;36mmany2skycoord\u001b[1;34m(cls, strings)\u001b[0m\n\u001b[0;32m     34\u001b[0m         \u001b[0mcoos\u001b[0m \u001b[1;33m=\u001b[0m \u001b[0mmap\u001b[0m\u001b[1;33m(\u001b[0m\u001b[1;34m' '\u001b[0m\u001b[1;33m.\u001b[0m\u001b[0mjoin\u001b[0m\u001b[1;33m,\u001b[0m \u001b[0mcls\u001b[0m\u001b[1;33m.\u001b[0m\u001b[0mmany2str\u001b[0m\u001b[1;33m(\u001b[0m\u001b[0mstrings\u001b[0m\u001b[1;33m)\u001b[0m\u001b[1;33m)\u001b[0m\u001b[1;33m\u001b[0m\u001b[0m\n\u001b[0;32m     35\u001b[0m \u001b[1;33m\u001b[0m\u001b[0m\n\u001b[1;32m---> 36\u001b[1;33m         \u001b[1;32mreturn\u001b[0m \u001b[1;33m[\u001b[0m\u001b[0mSkyCoord\u001b[0m\u001b[1;33m(\u001b[0m\u001b[0mcoo\u001b[0m\u001b[1;33m,\u001b[0m \u001b[0munit\u001b[0m\u001b[1;33m=\u001b[0m\u001b[1;33m(\u001b[0m\u001b[1;34m'h'\u001b[0m\u001b[1;33m,\u001b[0m \u001b[1;34m'deg'\u001b[0m\u001b[1;33m)\u001b[0m\u001b[1;33m)\u001b[0m \u001b[1;32mif\u001b[0m \u001b[0mcoo\u001b[0m \u001b[1;32melse\u001b[0m \u001b[1;32mNone\u001b[0m \u001b[1;32mfor\u001b[0m \u001b[0mcoo\u001b[0m \u001b[1;32min\u001b[0m \u001b[0mcoos\u001b[0m\u001b[1;33m]\u001b[0m\u001b[1;33m\u001b[0m\u001b[0m\n\u001b[0m\u001b[0;32m     37\u001b[0m \u001b[1;33m\u001b[0m\u001b[0m\n\u001b[0;32m     38\u001b[0m     \u001b[1;31m#def ra(self):\u001b[0m\u001b[1;33m\u001b[0m\u001b[1;33m\u001b[0m\u001b[0m\n",
      "\u001b[1;32m<ipython-input-498-0c82e1413216>\u001b[0m in \u001b[0;36m<listcomp>\u001b[1;34m(.0)\u001b[0m\n\u001b[0;32m     34\u001b[0m         \u001b[0mcoos\u001b[0m \u001b[1;33m=\u001b[0m \u001b[0mmap\u001b[0m\u001b[1;33m(\u001b[0m\u001b[1;34m' '\u001b[0m\u001b[1;33m.\u001b[0m\u001b[0mjoin\u001b[0m\u001b[1;33m,\u001b[0m \u001b[0mcls\u001b[0m\u001b[1;33m.\u001b[0m\u001b[0mmany2str\u001b[0m\u001b[1;33m(\u001b[0m\u001b[0mstrings\u001b[0m\u001b[1;33m)\u001b[0m\u001b[1;33m)\u001b[0m\u001b[1;33m\u001b[0m\u001b[0m\n\u001b[0;32m     35\u001b[0m \u001b[1;33m\u001b[0m\u001b[0m\n\u001b[1;32m---> 36\u001b[1;33m         \u001b[1;32mreturn\u001b[0m \u001b[1;33m[\u001b[0m\u001b[0mSkyCoord\u001b[0m\u001b[1;33m(\u001b[0m\u001b[0mcoo\u001b[0m\u001b[1;33m,\u001b[0m \u001b[0munit\u001b[0m\u001b[1;33m=\u001b[0m\u001b[1;33m(\u001b[0m\u001b[1;34m'h'\u001b[0m\u001b[1;33m,\u001b[0m \u001b[1;34m'deg'\u001b[0m\u001b[1;33m)\u001b[0m\u001b[1;33m)\u001b[0m \u001b[1;32mif\u001b[0m \u001b[0mcoo\u001b[0m \u001b[1;32melse\u001b[0m \u001b[1;32mNone\u001b[0m \u001b[1;32mfor\u001b[0m \u001b[0mcoo\u001b[0m \u001b[1;32min\u001b[0m \u001b[0mcoos\u001b[0m\u001b[1;33m]\u001b[0m\u001b[1;33m\u001b[0m\u001b[0m\n\u001b[0m\u001b[0;32m     37\u001b[0m \u001b[1;33m\u001b[0m\u001b[0m\n\u001b[0;32m     38\u001b[0m     \u001b[1;31m#def ra(self):\u001b[0m\u001b[1;33m\u001b[0m\u001b[1;33m\u001b[0m\u001b[0m\n",
      "\u001b[1;32m/usr/local/lib/python3.5/dist-packages/astropy-1.2.dev15837-py3.5-linux-x86_64.egg/astropy/coordinates/sky_coordinate.py\u001b[0m in \u001b[0;36m__init__\u001b[1;34m(self, *args, **kwargs)\u001b[0m\n\u001b[0;32m    194\u001b[0m         \u001b[0margs\u001b[0m \u001b[1;33m=\u001b[0m \u001b[0mlist\u001b[0m\u001b[1;33m(\u001b[0m\u001b[0margs\u001b[0m\u001b[1;33m)\u001b[0m  \u001b[1;31m# Make it mutable\u001b[0m\u001b[1;33m\u001b[0m\u001b[0m\n\u001b[0;32m    195\u001b[0m         \u001b[0mcopy\u001b[0m \u001b[1;33m=\u001b[0m \u001b[0mkwargs\u001b[0m\u001b[1;33m.\u001b[0m\u001b[0mpop\u001b[0m\u001b[1;33m(\u001b[0m\u001b[1;34m'copy'\u001b[0m\u001b[1;33m,\u001b[0m \u001b[1;32mTrue\u001b[0m\u001b[1;33m)\u001b[0m\u001b[1;33m\u001b[0m\u001b[0m\n\u001b[1;32m--> 196\u001b[1;33m         \u001b[0mkwargs\u001b[0m \u001b[1;33m=\u001b[0m \u001b[0mself\u001b[0m\u001b[1;33m.\u001b[0m\u001b[0m_parse_inputs\u001b[0m\u001b[1;33m(\u001b[0m\u001b[0margs\u001b[0m\u001b[1;33m,\u001b[0m \u001b[0mkwargs\u001b[0m\u001b[1;33m)\u001b[0m\u001b[1;33m\u001b[0m\u001b[0m\n\u001b[0m\u001b[0;32m    197\u001b[0m \u001b[1;33m\u001b[0m\u001b[0m\n\u001b[0;32m    198\u001b[0m         \u001b[1;31m# Set internal versions of object state attributes\u001b[0m\u001b[1;33m\u001b[0m\u001b[1;33m\u001b[0m\u001b[0m\n",
      "\u001b[1;32m/usr/local/lib/python3.5/dist-packages/astropy-1.2.dev15837-py3.5-linux-x86_64.egg/astropy/coordinates/sky_coordinate.py\u001b[0m in \u001b[0;36m_parse_inputs\u001b[1;34m(self, args, kwargs)\u001b[0m\n\u001b[0;32m    294\u001b[0m                 \u001b[1;31m# along with any frame attributes like equinox or obstime which\u001b[0m\u001b[1;33m\u001b[0m\u001b[1;33m\u001b[0m\u001b[0m\n\u001b[0;32m    295\u001b[0m                 \u001b[1;31m# were explicitly specified in the coordinate object (i.e. non-default).\u001b[0m\u001b[1;33m\u001b[0m\u001b[1;33m\u001b[0m\u001b[0m\n\u001b[1;32m--> 296\u001b[1;33m                 \u001b[0mcoord_kwargs\u001b[0m \u001b[1;33m=\u001b[0m \u001b[0m_parse_coordinate_arg\u001b[0m\u001b[1;33m(\u001b[0m\u001b[0margs\u001b[0m\u001b[1;33m[\u001b[0m\u001b[1;36m0\u001b[0m\u001b[1;33m]\u001b[0m\u001b[1;33m,\u001b[0m \u001b[0mframe\u001b[0m\u001b[1;33m,\u001b[0m \u001b[0munits\u001b[0m\u001b[1;33m,\u001b[0m \u001b[0mkwargs\u001b[0m\u001b[1;33m)\u001b[0m\u001b[1;33m\u001b[0m\u001b[0m\n\u001b[0m\u001b[0;32m    297\u001b[0m \u001b[1;33m\u001b[0m\u001b[0m\n\u001b[0;32m    298\u001b[0m                 \u001b[1;31m# Copy other 'info' attr only if it has actually been defined.\u001b[0m\u001b[1;33m\u001b[0m\u001b[1;33m\u001b[0m\u001b[0m\n",
      "\u001b[1;32m/usr/local/lib/python3.5/dist-packages/astropy-1.2.dev15837-py3.5-linux-x86_64.egg/astropy/coordinates/sky_coordinate.py\u001b[0m in \u001b[0;36m_parse_coordinate_arg\u001b[1;34m(coords, frame, units, init_kwargs)\u001b[0m\n\u001b[0;32m   1565\u001b[0m     \u001b[1;32mexcept\u001b[0m \u001b[0mException\u001b[0m \u001b[1;32mas\u001b[0m \u001b[0merr\u001b[0m\u001b[1;33m:\u001b[0m\u001b[1;33m\u001b[0m\u001b[0m\n\u001b[0;32m   1566\u001b[0m         raise ValueError('Cannot parse first argument data \"{0}\" for attribute '\n\u001b[1;32m-> 1567\u001b[1;33m                          '{1}'.format(value, frame_attr_name), err)\n\u001b[0m\u001b[0;32m   1568\u001b[0m     \u001b[1;32mreturn\u001b[0m \u001b[0mvalid_kwargs\u001b[0m\u001b[1;33m\u001b[0m\u001b[0m\n\u001b[0;32m   1569\u001b[0m \u001b[1;33m\u001b[0m\u001b[0m\n",
      "\u001b[1;31mValueError\u001b[0m: ('Cannot parse first argument data \"\" for attribute ra', ValueError(\"Syntax error parsing angle ''\",))"
     ]
    }
   ],
   "source": [
    "sc = Jparser.many2skycoord(tbl['name'])"
   ]
  },
  {
   "cell_type": "code",
   "execution_count": 484,
   "metadata": {
    "collapsed": false
   },
   "outputs": [
    {
     "data": {
      "text/plain": [
       "(array([490, 493, 499]),)"
      ]
     },
     "execution_count": 484,
     "metadata": {},
     "output_type": "execute_result"
    }
   ],
   "source": [
    "np.where(np.array(list(map(len, cool))) > 23)"
   ]
  },
  {
   "cell_type": "code",
   "execution_count": 496,
   "metadata": {
    "collapsed": false
   },
   "outputs": [
    {
     "data": {
      "text/plain": [
       "'MASTER J091506.94+334730.87'"
      ]
     },
     "execution_count": 496,
     "metadata": {},
     "output_type": "execute_result"
    }
   ],
   "source": [
    "tbl['name'][490]"
   ]
  },
  {
   "cell_type": "code",
   "execution_count": 449,
   "metadata": {
    "collapsed": false
   },
   "outputs": [
    {
     "data": {
      "text/plain": [
       "<SkyCoord (ICRS): (ra, dec) in deg\n",
       "    (229.19654167, 28.62855556)>"
      ]
     },
     "execution_count": 449,
     "metadata": {},
     "output_type": "execute_result"
    }
   ],
   "source": [
    "SkyCoord(' '.join(coo), unit=(u.h, u.deg))"
   ]
  },
  {
   "cell_type": "code",
   "execution_count": 442,
   "metadata": {
    "collapsed": false
   },
   "outputs": [
    {
     "ename": "ValueError",
     "evalue": "('Cannot parse first argument data \"[\\'15:16:47.17\\', \\'\\']\" for attribute ra', ValueError(\"Syntax error parsing angle ''\",))",
     "output_type": "error",
     "traceback": [
      "\u001b[1;31m---------------------------------------------------------------------------\u001b[0m",
      "\u001b[1;31mValueError\u001b[0m                                Traceback (most recent call last)",
      "\u001b[1;32m/usr/local/lib/python3.5/dist-packages/astropy-1.2.dev15837-py3.5-linux-x86_64.egg/astropy/coordinates/angle_utilities.py\u001b[0m in \u001b[0;36mparse\u001b[1;34m(self, angle, unit, debug)\u001b[0m\n\u001b[0;32m    254\u001b[0m             found_angle, found_unit = self._parser.parse(\n\u001b[1;32m--> 255\u001b[1;33m                 angle, lexer=self._lexer, debug=debug)\n\u001b[0m\u001b[0;32m    256\u001b[0m         \u001b[1;32mexcept\u001b[0m \u001b[0mValueError\u001b[0m \u001b[1;32mas\u001b[0m \u001b[0me\u001b[0m\u001b[1;33m:\u001b[0m\u001b[1;33m\u001b[0m\u001b[0m\n",
      "\u001b[1;32m/usr/local/lib/python3.5/dist-packages/astropy-1.2.dev15837-py3.5-linux-x86_64.egg/astropy/extern/ply/yacc.py\u001b[0m in \u001b[0;36mparse\u001b[1;34m(self, input, lexer, debug, tracking, tokenfunc)\u001b[0m\n\u001b[0;32m    330\u001b[0m         \u001b[1;32melse\u001b[0m\u001b[1;33m:\u001b[0m\u001b[1;33m\u001b[0m\u001b[0m\n\u001b[1;32m--> 331\u001b[1;33m             \u001b[1;32mreturn\u001b[0m \u001b[0mself\u001b[0m\u001b[1;33m.\u001b[0m\u001b[0mparseopt_notrack\u001b[0m\u001b[1;33m(\u001b[0m\u001b[0minput\u001b[0m\u001b[1;33m,\u001b[0m \u001b[0mlexer\u001b[0m\u001b[1;33m,\u001b[0m \u001b[0mdebug\u001b[0m\u001b[1;33m,\u001b[0m \u001b[0mtracking\u001b[0m\u001b[1;33m,\u001b[0m \u001b[0mtokenfunc\u001b[0m\u001b[1;33m)\u001b[0m\u001b[1;33m\u001b[0m\u001b[0m\n\u001b[0m\u001b[0;32m    332\u001b[0m \u001b[1;33m\u001b[0m\u001b[0m\n",
      "\u001b[1;32m/usr/local/lib/python3.5/dist-packages/astropy-1.2.dev15837-py3.5-linux-x86_64.egg/astropy/extern/ply/yacc.py\u001b[0m in \u001b[0;36mparseopt_notrack\u001b[1;34m(self, input, lexer, debug, tracking, tokenfunc)\u001b[0m\n\u001b[0;32m   1180\u001b[0m                             \u001b[0merrtoken\u001b[0m\u001b[1;33m.\u001b[0m\u001b[0mlexer\u001b[0m \u001b[1;33m=\u001b[0m \u001b[0mlexer\u001b[0m\u001b[1;33m\u001b[0m\u001b[0m\n\u001b[1;32m-> 1181\u001b[1;33m                         \u001b[0mtok\u001b[0m \u001b[1;33m=\u001b[0m \u001b[0mcall_errorfunc\u001b[0m\u001b[1;33m(\u001b[0m\u001b[0mself\u001b[0m\u001b[1;33m.\u001b[0m\u001b[0merrorfunc\u001b[0m\u001b[1;33m,\u001b[0m \u001b[0merrtoken\u001b[0m\u001b[1;33m,\u001b[0m \u001b[0mself\u001b[0m\u001b[1;33m)\u001b[0m\u001b[1;33m\u001b[0m\u001b[0m\n\u001b[0m\u001b[0;32m   1182\u001b[0m                         \u001b[1;32mif\u001b[0m \u001b[0mself\u001b[0m\u001b[1;33m.\u001b[0m\u001b[0merrorok\u001b[0m\u001b[1;33m:\u001b[0m\u001b[1;33m\u001b[0m\u001b[0m\n",
      "\u001b[1;32m/usr/local/lib/python3.5/dist-packages/astropy-1.2.dev15837-py3.5-linux-x86_64.egg/astropy/extern/ply/yacc.py\u001b[0m in \u001b[0;36mcall_errorfunc\u001b[1;34m(errorfunc, token, parser)\u001b[0m\n\u001b[0;32m    192\u001b[0m     \u001b[0m_restart\u001b[0m \u001b[1;33m=\u001b[0m \u001b[0mparser\u001b[0m\u001b[1;33m.\u001b[0m\u001b[0mrestart\u001b[0m\u001b[1;33m\u001b[0m\u001b[0m\n\u001b[1;32m--> 193\u001b[1;33m     \u001b[0mr\u001b[0m \u001b[1;33m=\u001b[0m \u001b[0merrorfunc\u001b[0m\u001b[1;33m(\u001b[0m\u001b[0mtoken\u001b[0m\u001b[1;33m)\u001b[0m\u001b[1;33m\u001b[0m\u001b[0m\n\u001b[0m\u001b[0;32m    194\u001b[0m     \u001b[1;32mtry\u001b[0m\u001b[1;33m:\u001b[0m\u001b[1;33m\u001b[0m\u001b[0m\n",
      "\u001b[1;32m/usr/local/lib/python3.5/dist-packages/astropy-1.2.dev15837-py3.5-linux-x86_64.egg/astropy/coordinates/angle_utilities.py\u001b[0m in \u001b[0;36mp_error\u001b[1;34m(p)\u001b[0m\n\u001b[0;32m    243\u001b[0m         \u001b[1;32mdef\u001b[0m \u001b[0mp_error\u001b[0m\u001b[1;33m(\u001b[0m\u001b[0mp\u001b[0m\u001b[1;33m)\u001b[0m\u001b[1;33m:\u001b[0m\u001b[1;33m\u001b[0m\u001b[0m\n\u001b[1;32m--> 244\u001b[1;33m             \u001b[1;32mraise\u001b[0m \u001b[0mValueError\u001b[0m\u001b[1;33m\u001b[0m\u001b[0m\n\u001b[0m\u001b[0;32m    245\u001b[0m \u001b[1;33m\u001b[0m\u001b[0m\n",
      "\u001b[1;31mValueError\u001b[0m: ",
      "\nDuring handling of the above exception, another exception occurred:\n",
      "\u001b[1;31mValueError\u001b[0m                                Traceback (most recent call last)",
      "\u001b[1;32m/usr/local/lib/python3.5/dist-packages/astropy-1.2.dev15837-py3.5-linux-x86_64.egg/astropy/coordinates/sky_coordinate.py\u001b[0m in \u001b[0;36m_parse_coordinate_arg\u001b[1;34m(coords, frame, units, init_kwargs)\u001b[0m\n\u001b[0;32m   1563\u001b[0m             valid_kwargs[frame_attr_name] = repr_attr_class(value, unit=unit,\n\u001b[1;32m-> 1564\u001b[1;33m                                                             copy=False)\n\u001b[0m\u001b[0;32m   1565\u001b[0m     \u001b[1;32mexcept\u001b[0m \u001b[0mException\u001b[0m \u001b[1;32mas\u001b[0m \u001b[0merr\u001b[0m\u001b[1;33m:\u001b[0m\u001b[1;33m\u001b[0m\u001b[0m\n",
      "\u001b[1;32m/usr/local/lib/python3.5/dist-packages/astropy-1.2.dev15837-py3.5-linux-x86_64.egg/astropy/coordinates/angles.py\u001b[0m in \u001b[0;36m__new__\u001b[1;34m(cls, angle, unit, wrap_angle, **kwargs)\u001b[0m\n\u001b[0;32m    598\u001b[0m                             \"a Latitude angle.\")\n\u001b[1;32m--> 599\u001b[1;33m         \u001b[0mself\u001b[0m \u001b[1;33m=\u001b[0m \u001b[0msuper\u001b[0m\u001b[1;33m(\u001b[0m\u001b[0mLongitude\u001b[0m\u001b[1;33m,\u001b[0m \u001b[0mcls\u001b[0m\u001b[1;33m)\u001b[0m\u001b[1;33m.\u001b[0m\u001b[0m__new__\u001b[0m\u001b[1;33m(\u001b[0m\u001b[0mcls\u001b[0m\u001b[1;33m,\u001b[0m \u001b[0mangle\u001b[0m\u001b[1;33m,\u001b[0m \u001b[0munit\u001b[0m\u001b[1;33m=\u001b[0m\u001b[0munit\u001b[0m\u001b[1;33m,\u001b[0m \u001b[1;33m**\u001b[0m\u001b[0mkwargs\u001b[0m\u001b[1;33m)\u001b[0m\u001b[1;33m\u001b[0m\u001b[0m\n\u001b[0m\u001b[0;32m    600\u001b[0m         \u001b[1;32mif\u001b[0m \u001b[0mwrap_angle\u001b[0m \u001b[1;32mis\u001b[0m \u001b[1;32mNone\u001b[0m\u001b[1;33m:\u001b[0m\u001b[1;33m\u001b[0m\u001b[0m\n",
      "\u001b[1;32m/usr/local/lib/python3.5/dist-packages/astropy-1.2.dev15837-py3.5-linux-x86_64.egg/astropy/coordinates/angles.py\u001b[0m in \u001b[0;36m__new__\u001b[1;34m(cls, angle, unit, dtype, copy)\u001b[0m\n\u001b[0;32m    112\u001b[0m                        angle.dtype.kind not in 'SUVO')):\n\u001b[1;32m--> 113\u001b[1;33m                 \u001b[0mangle\u001b[0m \u001b[1;33m=\u001b[0m \u001b[1;33m[\u001b[0m\u001b[0mAngle\u001b[0m\u001b[1;33m(\u001b[0m\u001b[0mx\u001b[0m\u001b[1;33m,\u001b[0m \u001b[0munit\u001b[0m\u001b[1;33m,\u001b[0m \u001b[0mcopy\u001b[0m\u001b[1;33m=\u001b[0m\u001b[1;32mFalse\u001b[0m\u001b[1;33m)\u001b[0m \u001b[1;32mfor\u001b[0m \u001b[0mx\u001b[0m \u001b[1;32min\u001b[0m \u001b[0mangle\u001b[0m\u001b[1;33m]\u001b[0m\u001b[1;33m\u001b[0m\u001b[0m\n\u001b[0m\u001b[0;32m    114\u001b[0m \u001b[1;33m\u001b[0m\u001b[0m\n",
      "\u001b[1;32m/usr/local/lib/python3.5/dist-packages/astropy-1.2.dev15837-py3.5-linux-x86_64.egg/astropy/coordinates/angles.py\u001b[0m in \u001b[0;36m<listcomp>\u001b[1;34m(.0)\u001b[0m\n\u001b[0;32m    112\u001b[0m                        angle.dtype.kind not in 'SUVO')):\n\u001b[1;32m--> 113\u001b[1;33m                 \u001b[0mangle\u001b[0m \u001b[1;33m=\u001b[0m \u001b[1;33m[\u001b[0m\u001b[0mAngle\u001b[0m\u001b[1;33m(\u001b[0m\u001b[0mx\u001b[0m\u001b[1;33m,\u001b[0m \u001b[0munit\u001b[0m\u001b[1;33m,\u001b[0m \u001b[0mcopy\u001b[0m\u001b[1;33m=\u001b[0m\u001b[1;32mFalse\u001b[0m\u001b[1;33m)\u001b[0m \u001b[1;32mfor\u001b[0m \u001b[0mx\u001b[0m \u001b[1;32min\u001b[0m \u001b[0mangle\u001b[0m\u001b[1;33m]\u001b[0m\u001b[1;33m\u001b[0m\u001b[0m\n\u001b[0m\u001b[0;32m    114\u001b[0m \u001b[1;33m\u001b[0m\u001b[0m\n",
      "\u001b[1;32m/usr/local/lib/python3.5/dist-packages/astropy-1.2.dev15837-py3.5-linux-x86_64.egg/astropy/coordinates/angles.py\u001b[0m in \u001b[0;36m__new__\u001b[1;34m(cls, angle, unit, dtype, copy)\u001b[0m\n\u001b[0;32m     98\u001b[0m             \u001b[1;32melif\u001b[0m \u001b[0misinstance\u001b[0m\u001b[1;33m(\u001b[0m\u001b[0mangle\u001b[0m\u001b[1;33m,\u001b[0m \u001b[0msix\u001b[0m\u001b[1;33m.\u001b[0m\u001b[0mstring_types\u001b[0m\u001b[1;33m)\u001b[0m\u001b[1;33m:\u001b[0m\u001b[1;33m\u001b[0m\u001b[0m\n\u001b[1;32m---> 99\u001b[1;33m                 \u001b[0mangle\u001b[0m\u001b[1;33m,\u001b[0m \u001b[0mangle_unit\u001b[0m \u001b[1;33m=\u001b[0m \u001b[0mutil\u001b[0m\u001b[1;33m.\u001b[0m\u001b[0mparse_angle\u001b[0m\u001b[1;33m(\u001b[0m\u001b[0mangle\u001b[0m\u001b[1;33m,\u001b[0m \u001b[0munit\u001b[0m\u001b[1;33m)\u001b[0m\u001b[1;33m\u001b[0m\u001b[0m\n\u001b[0m\u001b[0;32m    100\u001b[0m                 \u001b[1;32mif\u001b[0m \u001b[0mangle_unit\u001b[0m \u001b[1;32mis\u001b[0m \u001b[1;32mNone\u001b[0m\u001b[1;33m:\u001b[0m\u001b[1;33m\u001b[0m\u001b[0m\n",
      "\u001b[1;32m/usr/local/lib/python3.5/dist-packages/astropy-1.2.dev15837-py3.5-linux-x86_64.egg/astropy/coordinates/angle_utilities.py\u001b[0m in \u001b[0;36mparse_angle\u001b[1;34m(angle, unit, debug)\u001b[0m\n\u001b[0;32m    347\u001b[0m     \"\"\"\n\u001b[1;32m--> 348\u001b[1;33m     \u001b[1;32mreturn\u001b[0m \u001b[0m_AngleParser\u001b[0m\u001b[1;33m(\u001b[0m\u001b[1;33m)\u001b[0m\u001b[1;33m.\u001b[0m\u001b[0mparse\u001b[0m\u001b[1;33m(\u001b[0m\u001b[0mangle\u001b[0m\u001b[1;33m,\u001b[0m \u001b[0munit\u001b[0m\u001b[1;33m,\u001b[0m \u001b[0mdebug\u001b[0m\u001b[1;33m=\u001b[0m\u001b[0mdebug\u001b[0m\u001b[1;33m)\u001b[0m\u001b[1;33m\u001b[0m\u001b[0m\n\u001b[0m\u001b[0;32m    349\u001b[0m \u001b[1;33m\u001b[0m\u001b[0m\n",
      "\u001b[1;32m/usr/local/lib/python3.5/dist-packages/astropy-1.2.dev15837-py3.5-linux-x86_64.egg/astropy/coordinates/angle_utilities.py\u001b[0m in \u001b[0;36mparse\u001b[1;34m(self, angle, unit, debug)\u001b[0m\n\u001b[0;32m    261\u001b[0m                 raise ValueError(\n\u001b[1;32m--> 262\u001b[1;33m                     \"Syntax error parsing angle {0!r}\".format(angle))\n\u001b[0m\u001b[0;32m    263\u001b[0m \u001b[1;33m\u001b[0m\u001b[0m\n",
      "\u001b[1;31mValueError\u001b[0m: Syntax error parsing angle ''",
      "\nDuring handling of the above exception, another exception occurred:\n",
      "\u001b[1;31mValueError\u001b[0m                                Traceback (most recent call last)",
      "\u001b[1;32m<ipython-input-442-7286768dd9c2>\u001b[0m in \u001b[0;36m<module>\u001b[1;34m()\u001b[0m\n\u001b[1;32m----> 1\u001b[1;33m \u001b[1;33m[\u001b[0m\u001b[0mSkyCoord\u001b[0m\u001b[1;33m(\u001b[0m\u001b[0mcoo\u001b[0m\u001b[1;33m,\u001b[0m \u001b[0munit\u001b[0m\u001b[1;33m=\u001b[0m\u001b[1;33m(\u001b[0m\u001b[0mu\u001b[0m\u001b[1;33m.\u001b[0m\u001b[0mh\u001b[0m\u001b[1;33m,\u001b[0m \u001b[0mu\u001b[0m\u001b[1;33m.\u001b[0m\u001b[0mdeg\u001b[0m\u001b[1;33m)\u001b[0m\u001b[1;33m)\u001b[0m \u001b[1;32mfor\u001b[0m \u001b[0mcoo\u001b[0m \u001b[1;32min\u001b[0m \u001b[0mj\u001b[0m\u001b[1;33m.\u001b[0m\u001b[0mto_strings\u001b[0m\u001b[1;33m(\u001b[0m\u001b[1;33m)\u001b[0m\u001b[1;33m[\u001b[0m\u001b[1;33m:\u001b[0m\u001b[1;36m1\u001b[0m\u001b[1;33m]\u001b[0m\u001b[1;33m]\u001b[0m\u001b[1;33m\u001b[0m\u001b[0m\n\u001b[0m",
      "\u001b[1;32m<ipython-input-442-7286768dd9c2>\u001b[0m in \u001b[0;36m<listcomp>\u001b[1;34m(.0)\u001b[0m\n\u001b[1;32m----> 1\u001b[1;33m \u001b[1;33m[\u001b[0m\u001b[0mSkyCoord\u001b[0m\u001b[1;33m(\u001b[0m\u001b[0mcoo\u001b[0m\u001b[1;33m,\u001b[0m \u001b[0munit\u001b[0m\u001b[1;33m=\u001b[0m\u001b[1;33m(\u001b[0m\u001b[0mu\u001b[0m\u001b[1;33m.\u001b[0m\u001b[0mh\u001b[0m\u001b[1;33m,\u001b[0m \u001b[0mu\u001b[0m\u001b[1;33m.\u001b[0m\u001b[0mdeg\u001b[0m\u001b[1;33m)\u001b[0m\u001b[1;33m)\u001b[0m \u001b[1;32mfor\u001b[0m \u001b[0mcoo\u001b[0m \u001b[1;32min\u001b[0m \u001b[0mj\u001b[0m\u001b[1;33m.\u001b[0m\u001b[0mto_strings\u001b[0m\u001b[1;33m(\u001b[0m\u001b[1;33m)\u001b[0m\u001b[1;33m[\u001b[0m\u001b[1;33m:\u001b[0m\u001b[1;36m1\u001b[0m\u001b[1;33m]\u001b[0m\u001b[1;33m]\u001b[0m\u001b[1;33m\u001b[0m\u001b[0m\n\u001b[0m",
      "\u001b[1;32m/usr/local/lib/python3.5/dist-packages/astropy-1.2.dev15837-py3.5-linux-x86_64.egg/astropy/coordinates/sky_coordinate.py\u001b[0m in \u001b[0;36m__init__\u001b[1;34m(self, *args, **kwargs)\u001b[0m\n\u001b[0;32m    194\u001b[0m         \u001b[0margs\u001b[0m \u001b[1;33m=\u001b[0m \u001b[0mlist\u001b[0m\u001b[1;33m(\u001b[0m\u001b[0margs\u001b[0m\u001b[1;33m)\u001b[0m  \u001b[1;31m# Make it mutable\u001b[0m\u001b[1;33m\u001b[0m\u001b[0m\n\u001b[0;32m    195\u001b[0m         \u001b[0mcopy\u001b[0m \u001b[1;33m=\u001b[0m \u001b[0mkwargs\u001b[0m\u001b[1;33m.\u001b[0m\u001b[0mpop\u001b[0m\u001b[1;33m(\u001b[0m\u001b[1;34m'copy'\u001b[0m\u001b[1;33m,\u001b[0m \u001b[1;32mTrue\u001b[0m\u001b[1;33m)\u001b[0m\u001b[1;33m\u001b[0m\u001b[0m\n\u001b[1;32m--> 196\u001b[1;33m         \u001b[0mkwargs\u001b[0m \u001b[1;33m=\u001b[0m \u001b[0mself\u001b[0m\u001b[1;33m.\u001b[0m\u001b[0m_parse_inputs\u001b[0m\u001b[1;33m(\u001b[0m\u001b[0margs\u001b[0m\u001b[1;33m,\u001b[0m \u001b[0mkwargs\u001b[0m\u001b[1;33m)\u001b[0m\u001b[1;33m\u001b[0m\u001b[0m\n\u001b[0m\u001b[0;32m    197\u001b[0m \u001b[1;33m\u001b[0m\u001b[0m\n\u001b[0;32m    198\u001b[0m         \u001b[1;31m# Set internal versions of object state attributes\u001b[0m\u001b[1;33m\u001b[0m\u001b[1;33m\u001b[0m\u001b[0m\n",
      "\u001b[1;32m/usr/local/lib/python3.5/dist-packages/astropy-1.2.dev15837-py3.5-linux-x86_64.egg/astropy/coordinates/sky_coordinate.py\u001b[0m in \u001b[0;36m_parse_inputs\u001b[1;34m(self, args, kwargs)\u001b[0m\n\u001b[0;32m    294\u001b[0m                 \u001b[1;31m# along with any frame attributes like equinox or obstime which\u001b[0m\u001b[1;33m\u001b[0m\u001b[1;33m\u001b[0m\u001b[0m\n\u001b[0;32m    295\u001b[0m                 \u001b[1;31m# were explicitly specified in the coordinate object (i.e. non-default).\u001b[0m\u001b[1;33m\u001b[0m\u001b[1;33m\u001b[0m\u001b[0m\n\u001b[1;32m--> 296\u001b[1;33m                 \u001b[0mcoord_kwargs\u001b[0m \u001b[1;33m=\u001b[0m \u001b[0m_parse_coordinate_arg\u001b[0m\u001b[1;33m(\u001b[0m\u001b[0margs\u001b[0m\u001b[1;33m[\u001b[0m\u001b[1;36m0\u001b[0m\u001b[1;33m]\u001b[0m\u001b[1;33m,\u001b[0m \u001b[0mframe\u001b[0m\u001b[1;33m,\u001b[0m \u001b[0munits\u001b[0m\u001b[1;33m,\u001b[0m \u001b[0mkwargs\u001b[0m\u001b[1;33m)\u001b[0m\u001b[1;33m\u001b[0m\u001b[0m\n\u001b[0m\u001b[0;32m    297\u001b[0m \u001b[1;33m\u001b[0m\u001b[0m\n\u001b[0;32m    298\u001b[0m                 \u001b[1;31m# Copy other 'info' attr only if it has actually been defined.\u001b[0m\u001b[1;33m\u001b[0m\u001b[1;33m\u001b[0m\u001b[0m\n",
      "\u001b[1;32m/usr/local/lib/python3.5/dist-packages/astropy-1.2.dev15837-py3.5-linux-x86_64.egg/astropy/coordinates/sky_coordinate.py\u001b[0m in \u001b[0;36m_parse_coordinate_arg\u001b[1;34m(coords, frame, units, init_kwargs)\u001b[0m\n\u001b[0;32m   1565\u001b[0m     \u001b[1;32mexcept\u001b[0m \u001b[0mException\u001b[0m \u001b[1;32mas\u001b[0m \u001b[0merr\u001b[0m\u001b[1;33m:\u001b[0m\u001b[1;33m\u001b[0m\u001b[0m\n\u001b[0;32m   1566\u001b[0m         raise ValueError('Cannot parse first argument data \"{0}\" for attribute '\n\u001b[1;32m-> 1567\u001b[1;33m                          '{1}'.format(value, frame_attr_name), err)\n\u001b[0m\u001b[0;32m   1568\u001b[0m     \u001b[1;32mreturn\u001b[0m \u001b[0mvalid_kwargs\u001b[0m\u001b[1;33m\u001b[0m\u001b[0m\n\u001b[0;32m   1569\u001b[0m \u001b[1;33m\u001b[0m\u001b[0m\n",
      "\u001b[1;31mValueError\u001b[0m: ('Cannot parse first argument data \"[\\'15:16:47.17\\', \\'\\']\" for attribute ra', ValueError(\"Syntax error parsing angle ''\",))"
     ]
    }
   ],
   "source": [
    "[SkyCoord(coo, unit=(u.h, u.deg)) for coo in j.to_strings()[:1]]"
   ]
  },
  {
   "cell_type": "code",
   "execution_count": 395,
   "metadata": {
    "collapsed": false
   },
   "outputs": [],
   "source": [
    "from astropy.table import Table"
   ]
  },
  {
   "cell_type": "code",
   "execution_count": 405,
   "metadata": {
    "collapsed": false
   },
   "outputs": [],
   "source": []
  },
  {
   "cell_type": "code",
   "execution_count": 166,
   "metadata": {
    "collapsed": false
   },
   "outputs": [
    {
     "name": "stdout",
     "output_type": "stream",
     "text": [
      "Data for 1361 objects successfully read.\n",
      "\n",
      "\n"
     ]
    },
    {
     "name": "stderr",
     "output_type": "stream",
     "text": [
      "WARNING: IllegalSecondWarning: 'second' was found  to be '60.0', which is not in range [0,60). Treating as 0 sec, +1 min [astropy.coordinates.angle_utilities]\n"
     ]
    }
   ],
   "source": [
    "%run ~/work/obstools/RKCat.py"
   ]
  },
  {
   "cell_type": "code",
   "execution_count": 191,
   "metadata": {
    "collapsed": false
   },
   "outputs": [
    {
     "name": "stdout",
     "output_type": "stream",
     "text": [
      "Updating IERS table...\n",
      "Done\n"
     ]
    }
   ],
   "source": [
    "from pySHOC.airmass import altitude\n",
    "    \n",
    "#Magnitude filter\n",
    "mags = [c for c in table.colnames if 'mag' in c]\n",
    "mag1 = np.vectorize( lambda s: float(s.strip('>UBVRIKpgr') or 100) )(tq['mag1'])\n",
    "lmag = mag1 <= 20\n",
    "tqq = tq[lmag]\n",
    "\n",
    "#l = [ltype&lra][lmag]\n",
    "\n",
    "#Altitude filter\n",
    "t0 = Time.now()\n",
    "interval = 300*u.s\n",
    "\n",
    "days = 3\n",
    "N = (days*u.day).to('s') / interval\n",
    "t = t0 + interval * np.arange(N)\n",
    "\n",
    "dawn, dusk = 8, 18\n",
    "lnight = (dusk < t.hours) | (t.hours < dawn)\n",
    "t = t[lnight]\n",
    "\n",
    "# iers_a = t.get_updated_iers_table( cache=True )        #update the IERS table and set the leap-second offset\n",
    "# delta, status = t.get_delta_ut1_utc( iers_a, return_status=True )\n",
    "# t.delta_ut1_utc = delta\n",
    "\n",
    "iers_a = t.get_updated_iers_table(cache=True)        #update the IERS table and set the leap-second offset\n",
    "delta, status = t.get_delta_ut1_utc(iers_a, return_status=True)\n",
    "t.delta_ut1_utc = delta\n",
    "\n",
    "lon = viz.siteloc.longitude\n",
    "lat = viz.siteloc.latitude\n",
    "lmst = t.sidereal_time('mean', longitude=lon)\n",
    "\n",
    "ra = np.radians( tqq['ra'].data[None].T )\n",
    "dec = np.radians( tqq['dec'].data[None].T )\n",
    "altmax = altitude(ra, dec,\n",
    "                    lmst.radian,\n",
    "                    np.radians(lat) ).max(1)\n",
    "lalt = altmax.value >= np.radians(45)"
   ]
  },
  {
   "cell_type": "code",
   "execution_count": 192,
   "metadata": {
    "collapsed": false
   },
   "outputs": [
    {
     "data": {
      "text/plain": [
       "99"
      ]
     },
     "execution_count": 192,
     "metadata": {},
     "output_type": "execute_result"
    }
   ],
   "source": [
    "tqqq = tqq[lalt]\n",
    "len(tqqq)"
   ]
  },
  {
   "cell_type": "code",
   "execution_count": 194,
   "metadata": {
    "collapsed": false
   },
   "outputs": [],
   "source": [
    "tqqq.show_in_browser()"
   ]
  },
  {
   "cell_type": "code",
   "execution_count": 269,
   "metadata": {
    "collapsed": false
   },
   "outputs": [
    {
     "data": {
      "text/plain": [
       "'1155 MASTER J203423.51+065507.9 2016 Jun  25     GRB            GCN  19612  IAC  VS  MASTER  prompt polarization, see GCN'"
      ]
     },
     "execution_count": 269,
     "metadata": {},
     "output_type": "execute_result"
    }
   ],
   "source": [
    "txt[ixf[0]]"
   ]
  },
  {
   "cell_type": "code",
   "execution_count": 149,
   "metadata": {
    "collapsed": false
   },
   "outputs": [],
   "source": [
    "ticklabels = ax.xaxis.get_majorticklabels()#self.parasite.xaxis.get_majorticklabels()\n",
    "for label in ticklabels:\n",
    "    #print( label )\n",
    "    label.set_ha('left')\n",
    "    label.set_rotation(-45)"
   ]
  },
  {
   "cell_type": "code",
   "execution_count": 88,
   "metadata": {
    "collapsed": false
   },
   "outputs": [
    {
     "data": {
      "text/plain": [
       "array([ 0.00108515,  0.0010773 ,  0.0010712 ,  0.00106682,  0.00106414,\n",
       "        0.00106315,  0.00106386,  0.00106626,  0.00107038,  0.00107626,\n",
       "        0.00108392,  0.00109344,  0.00110488,  0.00111833,  0.00113391,\n",
       "        0.00115175,  0.00117202,  0.00119498,  0.00122098,  0.00125009,\n",
       "        0.00128362,  0.00132307,  0.00137167,  0.00143785,  0.00154918,\n",
       "        0.00181395,  0.00241077,  0.00156253,  0.00156711,  0.00162163,\n",
       "        0.00167985,  0.00174191,  0.00180794,  0.00187808,  0.00195244,\n",
       "        0.00203116,  0.00211434,  0.0022021 ,  0.00229452,  0.00239172,\n",
       "        0.00249375,  0.00260069,  0.00271258,  0.00282948,  0.00295138,\n",
       "        0.00307833,  0.00321029,  0.00334726,  0.00348918,  0.003636  ,\n",
       "        0.00378765,  0.00394404,  0.00410505,  0.00427055,  0.00444039,\n",
       "        0.00461442,  0.00479246,  0.00497431,  0.00515976,  0.00534859,\n",
       "        0.00554056,  0.00573542,  0.00593291,  0.00613276,  0.00633469,\n",
       "        0.00653842,  0.00674366,  0.00695011,  0.00715748,  0.00736548,\n",
       "        0.0075738 ,  0.00778218,  0.00799031,  0.00819793,  0.00840476,\n",
       "        0.00861056,  0.00881507,  0.00901807,  0.00921935,  0.00941871,\n",
       "        0.00961598,  0.00975645,  0.00884902,  0.00960673,  0.01011612,\n",
       "        0.01041739,  0.01065049,  0.01085721,  0.01105078,  0.0112362 ,\n",
       "        0.011416  ,  0.01159191,  0.01176416,  0.01193332,  0.01209982,\n",
       "        0.01226402,  0.01242627,  0.01258689,  0.01274621,  0.01290454])"
      ]
     },
     "execution_count": 88,
     "metadata": {},
     "output_type": "execute_result"
    }
   ],
   "source": [
    "#fig, ax = plt.subplots()\n",
    "obs.moon_illumination(t)"
   ]
  },
  {
   "cell_type": "code",
   "execution_count": 86,
   "metadata": {
    "collapsed": false
   },
   "outputs": [
    {
     "data": {
      "text/plain": [
       "[<matplotlib.lines.Line2D at 0x7f967d2fecc0>]"
      ]
     },
     "execution_count": 86,
     "metadata": {},
     "output_type": "execute_result"
    }
   ],
   "source": [
    "import matplotlib.pyplot as plt\n",
    "import matplotlib.path as mpath\n",
    "import numpy as np\n",
    "\n",
    "\n",
    "star = mpath.Path.unit_regular_star(6)\n",
    "circle = mpath.Path.unit_circle()\n",
    "# concatenate the circle with an internal cutout of the star\n",
    "verts = np.concatenate([circle.vertices, star.vertices[::-1, ...]])\n",
    "codes = np.concatenate([circle.codes, star.codes])\n",
    "cut_star = mpath.Path(verts, codes)\n",
    "\n",
    "fig, ax = plt.subplots()\n",
    "ax.plot(np.arange(10)**2, '--r', marker=cut_star, markersize=15)\n",
    "\n"
   ]
  },
  {
   "cell_type": "code",
   "execution_count": 100,
   "metadata": {
    "collapsed": false
   },
   "outputs": [
    {
     "data": {
      "text/plain": [
       "array([[-0.2652031 ,  1.        ],\n",
       "       [-0.51957987,  0.89463369],\n",
       "       [-0.70710678,  0.70710678],\n",
       "       [-0.89463369,  0.51957987],\n",
       "       [-1.        ,  0.2652031 ],\n",
       "       [-1.        ,  0.        ],\n",
       "       [-1.        , -0.2652031 ],\n",
       "       [-0.89463369, -0.51957987],\n",
       "       [-0.70710678, -0.70710678],\n",
       "       [-0.51957987, -0.89463369],\n",
       "       [-0.2652031 , -1.        ]])"
      ]
     },
     "execution_count": 100,
     "metadata": {},
     "output_type": "execute_result"
    }
   ],
   "source": [
    "circle.vertices[lx], "
   ]
  },
  {
   "cell_type": "code",
   "execution_count": 152,
   "metadata": {
    "collapsed": false
   },
   "outputs": [
    {
     "data": {
      "text/plain": [
       "[<matplotlib.lines.Line2D at 0x7f967b9c8c18>]"
      ]
     },
     "execution_count": 152,
     "metadata": {},
     "output_type": "execute_result"
    }
   ],
   "source": [
    "\n",
    "\n",
    "cicle = get_moon_marker()\n",
    "fig, ax = plt.subplots()\n",
    "ax.plot(np.arange(10)**2, '-y', marker=cicle, markersize=15)\n",
    "\n",
    "\n",
    "\n",
    "fig, ax = plt.subplots()\n",
    "ax.plot(xv, yv)\n",
    "ax.plot(xp, yv)"
   ]
  },
  {
   "cell_type": "code",
   "execution_count": 141,
   "metadata": {
    "collapsed": false
   },
   "outputs": [
    {
     "data": {
      "text/plain": [
       "array([[-0.2652031 ,  1.        ],\n",
       "       [-0.51957987,  0.89463369],\n",
       "       [-0.70710678,  0.70710678],\n",
       "       [-0.89463369,  0.51957987],\n",
       "       [-1.        ,  0.2652031 ],\n",
       "       [-1.        ,  0.        ],\n",
       "       [-1.        , -0.2652031 ],\n",
       "       [-0.89463369, -0.51957987],\n",
       "       [-0.70710678, -0.70710678],\n",
       "       [-0.51957987, -0.89463369],\n",
       "       [-0.2652031 , -1.        ],\n",
       "       [-0.1945356 , -1.        ],\n",
       "       [-0.38112971, -0.89463369],\n",
       "       [-0.51868714, -0.70710678],\n",
       "       [-0.65624458, -0.51957987],\n",
       "       [-0.73353439, -0.2652031 ],\n",
       "       [-0.73353439,  0.        ],\n",
       "       [-0.73353439,  0.2652031 ],\n",
       "       [-0.65624458,  0.51957987],\n",
       "       [-0.51868714,  0.70710678],\n",
       "       [-0.38112971,  0.89463369],\n",
       "       [-0.1945356 ,  1.        ]])"
      ]
     },
     "execution_count": 141,
     "metadata": {},
     "output_type": "execute_result"
    }
   ],
   "source": [
    "\n"
   ]
  },
  {
   "cell_type": "code",
   "execution_count": 91,
   "metadata": {
    "collapsed": false
   },
   "outputs": [
    {
     "data": {
      "text/latex": [
       "$2.3943041 \\; \\mathrm{rad}$"
      ],
      "text/plain": [
       "<Quantity 2.3943040853713233 rad>"
      ]
     },
     "execution_count": 91,
     "metadata": {},
     "output_type": "execute_result"
    }
   ],
   "source": [
    "observer.moon_phase(viz.midnight)"
   ]
  },
  {
   "cell_type": "markdown",
   "metadata": {},
   "source": [
    "`astropy.coordinates.EarthLocation.get_site_names` and\n",
    "`~astropy.coordinates.EarthLocation.get_site_names` can be used to get\n",
    "locations of major observatories.\n",
    "\n",
    "Use `astropy.coordinates` to find the Alt, Az coordinates of M33 at as\n",
    "observed from Bear Mountain at 11pm on 2012 July 12.\n"
   ]
  },
  {
   "cell_type": "code",
   "execution_count": 10,
   "metadata": {
    "collapsed": false
   },
   "outputs": [
    {
     "name": "stdout",
     "output_type": "stream",
     "text": [
      " Altitude = 6.2e+01 deg\n"
     ]
    }
   ],
   "source": [
    "\n",
    "print(\" Altitude = {0.alt:.2}\".format(altaz))"
   ]
  },
  {
   "cell_type": "markdown",
   "metadata": {},
   "source": [
    "This is helpful since it turns out M33 is barely above the horizon at this\n",
    "time. It's more informative to find M33's airmass over the course of\n",
    "the night.\n",
    "\n",
    "Find the alt,az coordinates of M33 at 100 times evenly spaced between 10pm\n",
    "and 7am EDT:\n"
   ]
  },
  {
   "cell_type": "code",
   "execution_count": null,
   "metadata": {
    "collapsed": false
   },
   "outputs": [],
   "source": [
    "midnight = Time('2012-7-13 00:00:00') - utcoffset\n",
    "delta_midnight = np.linspace(-2, 10, 100)*u.hour\n",
    "frame_July13night = AltAz(obstime=midnight+delta_midnight,\n",
    "                          location=bear_mountain)\n",
    "m33altazs_July13night = m33.transform_to(frame_July13night)"
   ]
  },
  {
   "cell_type": "markdown",
   "metadata": {},
   "source": [
    "convert alt, az to airmass with `~astropy.coordinates.AltAz.secz` attribute:\n"
   ]
  },
  {
   "cell_type": "code",
   "execution_count": null,
   "metadata": {
    "collapsed": false
   },
   "outputs": [],
   "source": [
    "m33airmasss_July13night = m33altazs_July13night.secz"
   ]
  },
  {
   "cell_type": "markdown",
   "metadata": {},
   "source": [
    "Plot the airmass as a function of time:\n"
   ]
  },
  {
   "cell_type": "code",
   "execution_count": null,
   "metadata": {
    "collapsed": false
   },
   "outputs": [],
   "source": [
    "plt.plot(delta_midnight, m33airmasss_July13night)\n",
    "plt.xlim(-2, 10)\n",
    "plt.ylim(1, 4)\n",
    "plt.xlabel('Hours from EDT Midnight')\n",
    "plt.ylabel('Airmass [Sec(z)]')\n",
    "plt.show()"
   ]
  },
  {
   "cell_type": "markdown",
   "metadata": {},
   "source": [
    "Use  `~astropy.coordinates.get_sun` to find the location of the Sun at 1000\n",
    "evenly spaced times between noon on July 12 and noon on July 13:\n"
   ]
  },
  {
   "cell_type": "markdown",
   "metadata": {},
   "source": [
    "Find the alt,az coordinates of M33 at those same times:\n"
   ]
  },
  {
   "cell_type": "code",
   "execution_count": null,
   "metadata": {
    "collapsed": false
   },
   "outputs": [],
   "source": [
    "m33altazs_July12_to_13 = m33.transform_to(frame_July12_to_13)"
   ]
  },
  {
   "cell_type": "markdown",
   "metadata": {},
   "source": [
    "Make a beautiful figure illustrating nighttime and the altitudes of M33 and\n",
    "the Sun over that time:\n"
   ]
  },
  {
   "cell_type": "code",
   "execution_count": null,
   "metadata": {
    "collapsed": false
   },
   "outputs": [],
   "source": [
    "plt.plot(delta_midnight, sunaltazs_July12_to_13.alt, color='r', label='Sun')\n",
    "plt.scatter(delta_midnight, m33altazs_July12_to_13.alt,\n",
    "            c=m33altazs_July12_to_13.az, label='M33', lw=0, s=8,\n",
    "            cmap='viridis')\n",
    "plt.fill_between(delta_midnight.to('hr').value, 0, 90,\n",
    "                 sunaltazs_July12_to_13.alt < -0*u.deg, color='0.5', zorder=0)\n",
    "plt.fill_between(delta_midnight.to('hr').value, 0, 90,\n",
    "                 sunaltazs_July12_to_13.alt < -18*u.deg, color='k', zorder=0)\n",
    "plt.colorbar().set_label('Azimuth [deg]')\n",
    "plt.legend(loc='upper left')\n",
    "plt.xlim(-12, 12)\n",
    "plt.xticks(np.arange(13)*2 -12)\n",
    "plt.ylim(0, 90)\n",
    "plt.xlabel('Hours from EDT Midnight')\n",
    "plt.ylabel('Altitude [deg]')\n",
    "plt.show()"
   ]
  }
 ],
 "metadata": {
  "kernelspec": {
   "display_name": "Python 3",
   "language": "python",
   "name": "python3"
  },
  "language_info": {
   "codemirror_mode": {
    "name": "ipython",
    "version": 3
   },
   "file_extension": ".py",
   "mimetype": "text/x-python",
   "name": "python",
   "nbconvert_exporter": "python",
   "pygments_lexer": "ipython3",
   "version": "3.5.1+"
  }
 },
 "nbformat": 4,
 "nbformat_minor": 0
}
